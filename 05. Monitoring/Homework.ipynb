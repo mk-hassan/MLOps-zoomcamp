{
 "cells": [
  {
   "cell_type": "markdown",
   "id": "7bf05e7e",
   "metadata": {},
   "source": [
    "# Baseline model for batch monitoring example"
   ]
  },
  {
   "cell_type": "code",
   "execution_count": 70,
   "id": "7320039b",
   "metadata": {},
   "outputs": [],
   "source": [
    "import requests\n",
    "import pandas as pd\n",
    "\n",
    "from evidently import Dataset, Report\n",
    "from evidently.metrics import QuantileValue, MeanValue\n",
    "from evidently.metrics.group_by import GroupBy\n",
    "\n",
    "from tqdm import tqdm\n",
    "\n",
    "import psycopg\n",
    "\n",
    "import uuid\n",
    "import pytz\n",
    "from random import random\n",
    "from datetime import datetime\n",
    "from dataclasses import dataclass"
   ]
  },
  {
   "cell_type": "code",
   "execution_count": 7,
   "id": "ebcd8eb5",
   "metadata": {},
   "outputs": [
    {
     "name": "stdout",
     "output_type": "stream",
     "text": [
      "Download files:\n"
     ]
    },
    {
     "name": "stderr",
     "output_type": "stream",
     "text": [
      "green_tripdata_2024-03.parquet: 100%|██████████| 1372372/1372372 [00:10<00:00, 127172.18it/s, save to ./data/green_tripdata_2024-03.parquet]\n"
     ]
    }
   ],
   "source": [
    "files = [('green_tripdata_2024-03.parquet', './data')]\n",
    "\n",
    "print(\"Download files:\")\n",
    "for file, path in files:\n",
    "    url=f\"https://d37ci6vzurychx.cloudfront.net/trip-data/{file}\"\n",
    "    resp=requests.get(url, stream=True)\n",
    "    save_path=f\"{path}/{file}\"\n",
    "    with open(save_path, \"wb\") as handle:\n",
    "        for data in tqdm(resp.iter_content(),\n",
    "                        desc=f\"{file}\",\n",
    "                        postfix=f\"save to {save_path}\",\n",
    "                        total=int(resp.headers[\"Content-Length\"])):\n",
    "            handle.write(data)"
   ]
  },
  {
   "cell_type": "code",
   "execution_count": 30,
   "id": "6735ae38",
   "metadata": {},
   "outputs": [],
   "source": [
    "data = pd.read_parquet('data/green_tripdata_2024-03.parquet')"
   ]
  },
  {
   "cell_type": "code",
   "execution_count": 31,
   "id": "d9a9151a",
   "metadata": {},
   "outputs": [
    {
     "data": {
      "text/plain": [
       "VendorID                          int32\n",
       "lpep_pickup_datetime     datetime64[us]\n",
       "lpep_dropoff_datetime    datetime64[us]\n",
       "store_and_fwd_flag               object\n",
       "RatecodeID                      float64\n",
       "PULocationID                      int32\n",
       "DOLocationID                      int32\n",
       "passenger_count                 float64\n",
       "trip_distance                   float64\n",
       "fare_amount                     float64\n",
       "extra                           float64\n",
       "mta_tax                         float64\n",
       "tip_amount                      float64\n",
       "tolls_amount                    float64\n",
       "ehail_fee                       float64\n",
       "improvement_surcharge           float64\n",
       "total_amount                    float64\n",
       "payment_type                    float64\n",
       "trip_type                       float64\n",
       "congestion_surcharge            float64\n",
       "dtype: object"
      ]
     },
     "execution_count": 31,
     "metadata": {},
     "output_type": "execute_result"
    }
   ],
   "source": [
    "data.dtypes"
   ]
  },
  {
   "cell_type": "markdown",
   "id": "d8af14a0",
   "metadata": {},
   "source": [
    "## Q1. Prepare the dataset"
   ]
  },
  {
   "cell_type": "code",
   "execution_count": 32,
   "id": "b44c37b2",
   "metadata": {},
   "outputs": [
    {
     "data": {
      "text/plain": [
       "(57457, 20)"
      ]
     },
     "execution_count": 32,
     "metadata": {},
     "output_type": "execute_result"
    }
   ],
   "source": [
    "data.shape"
   ]
  },
  {
   "cell_type": "markdown",
   "id": "186fcd8f",
   "metadata": {},
   "source": [
    "## Q2. Metric\n",
    "\n",
    "Q: What metric did you choose?\n",
    "\n",
    "Choosed `MeanValue` from `evidently.metrics`\n"
   ]
  },
  {
   "cell_type": "markdown",
   "id": "ae4fea79",
   "metadata": {},
   "source": [
    "## Q3. Monitoring"
   ]
  },
  {
   "cell_type": "code",
   "execution_count": 80,
   "id": "1fe6975a",
   "metadata": {},
   "outputs": [],
   "source": [
    "@dataclass\n",
    "class EvaluationResult:\n",
    "  day: int\n",
    "  mean: float\n",
    "  quantile: float"
   ]
  },
  {
   "cell_type": "code",
   "execution_count": 74,
   "id": "f1847088",
   "metadata": {},
   "outputs": [
    {
     "name": "stderr",
     "output_type": "stream",
     "text": [
      "  0%|          | 0/31 [00:00<?, ?it/s]/Users/Kamal/.local/share/virtualenvs/MLOps-zoomcamp-SN1OqVDr/lib/python3.13/site-packages/evidently/core/datasets.py:995: RuntimeWarning:\n",
      "\n",
      "invalid value encountered in scalar divide\n",
      "\n",
      "/Users/Kamal/.local/share/virtualenvs/MLOps-zoomcamp-SN1OqVDr/lib/python3.13/site-packages/evidently/core/datasets.py:995: RuntimeWarning:\n",
      "\n",
      "invalid value encountered in scalar divide\n",
      "\n",
      "  3%|▎         | 1/31 [00:00<00:05,  5.29it/s]/Users/Kamal/.local/share/virtualenvs/MLOps-zoomcamp-SN1OqVDr/lib/python3.13/site-packages/evidently/core/datasets.py:995: RuntimeWarning:\n",
      "\n",
      "invalid value encountered in scalar divide\n",
      "\n",
      "/Users/Kamal/.local/share/virtualenvs/MLOps-zoomcamp-SN1OqVDr/lib/python3.13/site-packages/evidently/core/datasets.py:995: RuntimeWarning:\n",
      "\n",
      "invalid value encountered in scalar divide\n",
      "\n",
      "  6%|▋         | 2/31 [00:00<00:04,  6.30it/s]/Users/Kamal/.local/share/virtualenvs/MLOps-zoomcamp-SN1OqVDr/lib/python3.13/site-packages/evidently/core/datasets.py:995: RuntimeWarning:\n",
      "\n",
      "invalid value encountered in scalar divide\n",
      "\n",
      "/Users/Kamal/.local/share/virtualenvs/MLOps-zoomcamp-SN1OqVDr/lib/python3.13/site-packages/evidently/core/datasets.py:995: RuntimeWarning:\n",
      "\n",
      "invalid value encountered in scalar divide\n",
      "\n",
      " 10%|▉         | 3/31 [00:00<00:03,  7.09it/s]/Users/Kamal/.local/share/virtualenvs/MLOps-zoomcamp-SN1OqVDr/lib/python3.13/site-packages/evidently/core/datasets.py:995: RuntimeWarning:\n",
      "\n",
      "invalid value encountered in scalar divide\n",
      "\n",
      "/Users/Kamal/.local/share/virtualenvs/MLOps-zoomcamp-SN1OqVDr/lib/python3.13/site-packages/evidently/core/datasets.py:995: RuntimeWarning:\n",
      "\n",
      "invalid value encountered in scalar divide\n",
      "\n",
      " 13%|█▎        | 4/31 [00:00<00:04,  6.72it/s]/Users/Kamal/.local/share/virtualenvs/MLOps-zoomcamp-SN1OqVDr/lib/python3.13/site-packages/evidently/core/datasets.py:995: RuntimeWarning:\n",
      "\n",
      "invalid value encountered in scalar divide\n",
      "\n",
      "/Users/Kamal/.local/share/virtualenvs/MLOps-zoomcamp-SN1OqVDr/lib/python3.13/site-packages/evidently/core/datasets.py:995: RuntimeWarning:\n",
      "\n",
      "invalid value encountered in scalar divide\n",
      "\n",
      " 16%|█▌        | 5/31 [00:00<00:04,  6.17it/s]/Users/Kamal/.local/share/virtualenvs/MLOps-zoomcamp-SN1OqVDr/lib/python3.13/site-packages/evidently/core/datasets.py:995: RuntimeWarning:\n",
      "\n",
      "invalid value encountered in scalar divide\n",
      "\n",
      "/Users/Kamal/.local/share/virtualenvs/MLOps-zoomcamp-SN1OqVDr/lib/python3.13/site-packages/evidently/core/datasets.py:995: RuntimeWarning:\n",
      "\n",
      "invalid value encountered in scalar divide\n",
      "\n",
      " 19%|█▉        | 6/31 [00:00<00:04,  6.18it/s]/Users/Kamal/.local/share/virtualenvs/MLOps-zoomcamp-SN1OqVDr/lib/python3.13/site-packages/evidently/core/datasets.py:995: RuntimeWarning:\n",
      "\n",
      "invalid value encountered in scalar divide\n",
      "\n",
      "/Users/Kamal/.local/share/virtualenvs/MLOps-zoomcamp-SN1OqVDr/lib/python3.13/site-packages/evidently/core/datasets.py:995: RuntimeWarning:\n",
      "\n",
      "invalid value encountered in scalar divide\n",
      "\n",
      " 23%|██▎       | 7/31 [00:01<00:03,  6.32it/s]/Users/Kamal/.local/share/virtualenvs/MLOps-zoomcamp-SN1OqVDr/lib/python3.13/site-packages/evidently/core/datasets.py:995: RuntimeWarning:\n",
      "\n",
      "invalid value encountered in scalar divide\n",
      "\n",
      "/Users/Kamal/.local/share/virtualenvs/MLOps-zoomcamp-SN1OqVDr/lib/python3.13/site-packages/evidently/core/datasets.py:995: RuntimeWarning:\n",
      "\n",
      "invalid value encountered in scalar divide\n",
      "\n",
      " 26%|██▌       | 8/31 [00:01<00:04,  4.61it/s]/Users/Kamal/.local/share/virtualenvs/MLOps-zoomcamp-SN1OqVDr/lib/python3.13/site-packages/evidently/core/datasets.py:995: RuntimeWarning:\n",
      "\n",
      "invalid value encountered in scalar divide\n",
      "\n",
      "/Users/Kamal/.local/share/virtualenvs/MLOps-zoomcamp-SN1OqVDr/lib/python3.13/site-packages/evidently/core/datasets.py:995: RuntimeWarning:\n",
      "\n",
      "invalid value encountered in scalar divide\n",
      "\n",
      " 29%|██▉       | 9/31 [00:01<00:04,  5.04it/s]/Users/Kamal/.local/share/virtualenvs/MLOps-zoomcamp-SN1OqVDr/lib/python3.13/site-packages/evidently/core/datasets.py:995: RuntimeWarning:\n",
      "\n",
      "invalid value encountered in scalar divide\n",
      "\n",
      "/Users/Kamal/.local/share/virtualenvs/MLOps-zoomcamp-SN1OqVDr/lib/python3.13/site-packages/evidently/core/datasets.py:995: RuntimeWarning:\n",
      "\n",
      "invalid value encountered in scalar divide\n",
      "\n",
      " 32%|███▏      | 10/31 [00:01<00:03,  5.79it/s]/Users/Kamal/.local/share/virtualenvs/MLOps-zoomcamp-SN1OqVDr/lib/python3.13/site-packages/evidently/core/datasets.py:995: RuntimeWarning:\n",
      "\n",
      "invalid value encountered in scalar divide\n",
      "\n",
      "/Users/Kamal/.local/share/virtualenvs/MLOps-zoomcamp-SN1OqVDr/lib/python3.13/site-packages/evidently/core/datasets.py:995: RuntimeWarning:\n",
      "\n",
      "invalid value encountered in scalar divide\n",
      "\n",
      " 35%|███▌      | 11/31 [00:01<00:03,  6.35it/s]/Users/Kamal/.local/share/virtualenvs/MLOps-zoomcamp-SN1OqVDr/lib/python3.13/site-packages/evidently/core/datasets.py:995: RuntimeWarning:\n",
      "\n",
      "invalid value encountered in scalar divide\n",
      "\n",
      "/Users/Kamal/.local/share/virtualenvs/MLOps-zoomcamp-SN1OqVDr/lib/python3.13/site-packages/evidently/core/datasets.py:995: RuntimeWarning:\n",
      "\n",
      "invalid value encountered in scalar divide\n",
      "\n",
      " 39%|███▊      | 12/31 [00:01<00:02,  6.98it/s]/Users/Kamal/.local/share/virtualenvs/MLOps-zoomcamp-SN1OqVDr/lib/python3.13/site-packages/evidently/core/datasets.py:995: RuntimeWarning:\n",
      "\n",
      "invalid value encountered in scalar divide\n",
      "\n",
      "/Users/Kamal/.local/share/virtualenvs/MLOps-zoomcamp-SN1OqVDr/lib/python3.13/site-packages/evidently/core/datasets.py:995: RuntimeWarning:\n",
      "\n",
      "invalid value encountered in scalar divide\n",
      "\n",
      " 42%|████▏     | 13/31 [00:02<00:02,  7.63it/s]/Users/Kamal/.local/share/virtualenvs/MLOps-zoomcamp-SN1OqVDr/lib/python3.13/site-packages/evidently/core/datasets.py:995: RuntimeWarning:\n",
      "\n",
      "invalid value encountered in scalar divide\n",
      "\n",
      "/Users/Kamal/.local/share/virtualenvs/MLOps-zoomcamp-SN1OqVDr/lib/python3.13/site-packages/evidently/core/datasets.py:995: RuntimeWarning:\n",
      "\n",
      "invalid value encountered in scalar divide\n",
      "\n",
      " 45%|████▌     | 14/31 [00:02<00:02,  8.14it/s]/Users/Kamal/.local/share/virtualenvs/MLOps-zoomcamp-SN1OqVDr/lib/python3.13/site-packages/evidently/core/datasets.py:995: RuntimeWarning:\n",
      "\n",
      "invalid value encountered in scalar divide\n",
      "\n",
      "/Users/Kamal/.local/share/virtualenvs/MLOps-zoomcamp-SN1OqVDr/lib/python3.13/site-packages/evidently/core/datasets.py:995: RuntimeWarning:\n",
      "\n",
      "invalid value encountered in scalar divide\n",
      "\n",
      " 48%|████▊     | 15/31 [00:02<00:01,  8.49it/s]/Users/Kamal/.local/share/virtualenvs/MLOps-zoomcamp-SN1OqVDr/lib/python3.13/site-packages/evidently/core/datasets.py:995: RuntimeWarning:\n",
      "\n",
      "invalid value encountered in scalar divide\n",
      "\n",
      "/Users/Kamal/.local/share/virtualenvs/MLOps-zoomcamp-SN1OqVDr/lib/python3.13/site-packages/evidently/core/datasets.py:995: RuntimeWarning:\n",
      "\n",
      "invalid value encountered in scalar divide\n",
      "\n",
      " 52%|█████▏    | 16/31 [00:02<00:01,  8.83it/s]/Users/Kamal/.local/share/virtualenvs/MLOps-zoomcamp-SN1OqVDr/lib/python3.13/site-packages/evidently/core/datasets.py:995: RuntimeWarning:\n",
      "\n",
      "invalid value encountered in scalar divide\n",
      "\n",
      "/Users/Kamal/.local/share/virtualenvs/MLOps-zoomcamp-SN1OqVDr/lib/python3.13/site-packages/evidently/core/datasets.py:995: RuntimeWarning:\n",
      "\n",
      "invalid value encountered in scalar divide\n",
      "\n",
      " 55%|█████▍    | 17/31 [00:02<00:01,  8.06it/s]/Users/Kamal/.local/share/virtualenvs/MLOps-zoomcamp-SN1OqVDr/lib/python3.13/site-packages/evidently/core/datasets.py:995: RuntimeWarning:\n",
      "\n",
      "invalid value encountered in scalar divide\n",
      "\n",
      "/Users/Kamal/.local/share/virtualenvs/MLOps-zoomcamp-SN1OqVDr/lib/python3.13/site-packages/evidently/core/datasets.py:995: RuntimeWarning:\n",
      "\n",
      "invalid value encountered in scalar divide\n",
      "\n",
      " 58%|█████▊    | 18/31 [00:02<00:01,  7.76it/s]/Users/Kamal/.local/share/virtualenvs/MLOps-zoomcamp-SN1OqVDr/lib/python3.13/site-packages/evidently/core/datasets.py:995: RuntimeWarning:\n",
      "\n",
      "invalid value encountered in scalar divide\n",
      "\n",
      "/Users/Kamal/.local/share/virtualenvs/MLOps-zoomcamp-SN1OqVDr/lib/python3.13/site-packages/evidently/core/datasets.py:995: RuntimeWarning:\n",
      "\n",
      "invalid value encountered in scalar divide\n",
      "\n",
      " 61%|██████▏   | 19/31 [00:02<00:01,  7.81it/s]/Users/Kamal/.local/share/virtualenvs/MLOps-zoomcamp-SN1OqVDr/lib/python3.13/site-packages/evidently/core/datasets.py:995: RuntimeWarning:\n",
      "\n",
      "invalid value encountered in scalar divide\n",
      "\n",
      "/Users/Kamal/.local/share/virtualenvs/MLOps-zoomcamp-SN1OqVDr/lib/python3.13/site-packages/evidently/core/datasets.py:995: RuntimeWarning:\n",
      "\n",
      "invalid value encountered in scalar divide\n",
      "\n",
      " 65%|██████▍   | 20/31 [00:02<00:01,  7.85it/s]/Users/Kamal/.local/share/virtualenvs/MLOps-zoomcamp-SN1OqVDr/lib/python3.13/site-packages/evidently/core/datasets.py:995: RuntimeWarning:\n",
      "\n",
      "invalid value encountered in scalar divide\n",
      "\n",
      "/Users/Kamal/.local/share/virtualenvs/MLOps-zoomcamp-SN1OqVDr/lib/python3.13/site-packages/evidently/core/datasets.py:995: RuntimeWarning:\n",
      "\n",
      "invalid value encountered in scalar divide\n",
      "\n",
      " 68%|██████▊   | 21/31 [00:03<00:01,  7.89it/s]/Users/Kamal/.local/share/virtualenvs/MLOps-zoomcamp-SN1OqVDr/lib/python3.13/site-packages/evidently/core/datasets.py:995: RuntimeWarning:\n",
      "\n",
      "invalid value encountered in scalar divide\n",
      "\n",
      "/Users/Kamal/.local/share/virtualenvs/MLOps-zoomcamp-SN1OqVDr/lib/python3.13/site-packages/evidently/core/datasets.py:995: RuntimeWarning:\n",
      "\n",
      "invalid value encountered in scalar divide\n",
      "\n",
      " 71%|███████   | 22/31 [00:03<00:01,  8.04it/s]/Users/Kamal/.local/share/virtualenvs/MLOps-zoomcamp-SN1OqVDr/lib/python3.13/site-packages/evidently/core/datasets.py:995: RuntimeWarning:\n",
      "\n",
      "invalid value encountered in scalar divide\n",
      "\n",
      "/Users/Kamal/.local/share/virtualenvs/MLOps-zoomcamp-SN1OqVDr/lib/python3.13/site-packages/evidently/core/datasets.py:995: RuntimeWarning:\n",
      "\n",
      "invalid value encountered in scalar divide\n",
      "\n",
      " 74%|███████▍  | 23/31 [00:03<00:00,  8.22it/s]/Users/Kamal/.local/share/virtualenvs/MLOps-zoomcamp-SN1OqVDr/lib/python3.13/site-packages/evidently/core/datasets.py:995: RuntimeWarning:\n",
      "\n",
      "invalid value encountered in scalar divide\n",
      "\n",
      "/Users/Kamal/.local/share/virtualenvs/MLOps-zoomcamp-SN1OqVDr/lib/python3.13/site-packages/evidently/core/datasets.py:995: RuntimeWarning:\n",
      "\n",
      "invalid value encountered in scalar divide\n",
      "\n",
      " 77%|███████▋  | 24/31 [00:03<00:00,  8.61it/s]/Users/Kamal/.local/share/virtualenvs/MLOps-zoomcamp-SN1OqVDr/lib/python3.13/site-packages/evidently/core/datasets.py:995: RuntimeWarning:\n",
      "\n",
      "invalid value encountered in scalar divide\n",
      "\n",
      "/Users/Kamal/.local/share/virtualenvs/MLOps-zoomcamp-SN1OqVDr/lib/python3.13/site-packages/evidently/core/datasets.py:995: RuntimeWarning:\n",
      "\n",
      "invalid value encountered in scalar divide\n",
      "\n",
      " 81%|████████  | 25/31 [00:03<00:00,  8.83it/s]/Users/Kamal/.local/share/virtualenvs/MLOps-zoomcamp-SN1OqVDr/lib/python3.13/site-packages/evidently/core/datasets.py:995: RuntimeWarning:\n",
      "\n",
      "invalid value encountered in scalar divide\n",
      "\n",
      "/Users/Kamal/.local/share/virtualenvs/MLOps-zoomcamp-SN1OqVDr/lib/python3.13/site-packages/evidently/core/datasets.py:995: RuntimeWarning:\n",
      "\n",
      "invalid value encountered in scalar divide\n",
      "\n",
      " 84%|████████▍ | 26/31 [00:03<00:00,  8.82it/s]/Users/Kamal/.local/share/virtualenvs/MLOps-zoomcamp-SN1OqVDr/lib/python3.13/site-packages/evidently/core/datasets.py:995: RuntimeWarning:\n",
      "\n",
      "invalid value encountered in scalar divide\n",
      "\n",
      "/Users/Kamal/.local/share/virtualenvs/MLOps-zoomcamp-SN1OqVDr/lib/python3.13/site-packages/evidently/core/datasets.py:995: RuntimeWarning:\n",
      "\n",
      "invalid value encountered in scalar divide\n",
      "\n",
      " 87%|████████▋ | 27/31 [00:03<00:00,  8.39it/s]/Users/Kamal/.local/share/virtualenvs/MLOps-zoomcamp-SN1OqVDr/lib/python3.13/site-packages/evidently/core/datasets.py:995: RuntimeWarning:\n",
      "\n",
      "invalid value encountered in scalar divide\n",
      "\n",
      "/Users/Kamal/.local/share/virtualenvs/MLOps-zoomcamp-SN1OqVDr/lib/python3.13/site-packages/evidently/core/datasets.py:995: RuntimeWarning:\n",
      "\n",
      "invalid value encountered in scalar divide\n",
      "\n",
      " 90%|█████████ | 28/31 [00:03<00:00,  7.88it/s]/Users/Kamal/.local/share/virtualenvs/MLOps-zoomcamp-SN1OqVDr/lib/python3.13/site-packages/evidently/core/datasets.py:995: RuntimeWarning:\n",
      "\n",
      "invalid value encountered in scalar divide\n",
      "\n",
      "/Users/Kamal/.local/share/virtualenvs/MLOps-zoomcamp-SN1OqVDr/lib/python3.13/site-packages/evidently/core/datasets.py:995: RuntimeWarning:\n",
      "\n",
      "invalid value encountered in scalar divide\n",
      "\n",
      " 94%|█████████▎| 29/31 [00:04<00:00,  7.73it/s]/Users/Kamal/.local/share/virtualenvs/MLOps-zoomcamp-SN1OqVDr/lib/python3.13/site-packages/evidently/core/datasets.py:995: RuntimeWarning:\n",
      "\n",
      "invalid value encountered in scalar divide\n",
      "\n",
      "/Users/Kamal/.local/share/virtualenvs/MLOps-zoomcamp-SN1OqVDr/lib/python3.13/site-packages/evidently/core/datasets.py:995: RuntimeWarning:\n",
      "\n",
      "invalid value encountered in scalar divide\n",
      "\n",
      " 97%|█████████▋| 30/31 [00:04<00:00,  7.66it/s]/Users/Kamal/.local/share/virtualenvs/MLOps-zoomcamp-SN1OqVDr/lib/python3.13/site-packages/evidently/core/datasets.py:995: RuntimeWarning:\n",
      "\n",
      "invalid value encountered in scalar divide\n",
      "\n",
      "/Users/Kamal/.local/share/virtualenvs/MLOps-zoomcamp-SN1OqVDr/lib/python3.13/site-packages/evidently/core/datasets.py:995: RuntimeWarning:\n",
      "\n",
      "invalid value encountered in scalar divide\n",
      "\n",
      "100%|██████████| 31/31 [00:04<00:00,  7.27it/s]\n"
     ]
    }
   ],
   "source": [
    "results = []\n",
    "\n",
    "for day, group in tqdm(data.groupby(by=data['lpep_pickup_datetime'].dt.day)):\n",
    "  dataset = Dataset.from_pandas(group)\n",
    "  report = Report([MeanValue(column=\"fare_amount\"), QuantileValue(column=\"fare_amount\")])\n",
    "  result = report.run(group).dict()[\"metrics\"]\n",
    "\n",
    "  results.append(EvaluationResult(day=day, mean=result[0][\"value\"], quantile=result[1][\"value\"]))"
   ]
  },
  {
   "cell_type": "code",
   "execution_count": 77,
   "id": "de1d3b10",
   "metadata": {},
   "outputs": [
    {
     "data": {
      "text/plain": [
       "evaluations(day=3, mean=np.float64(18.562301369863015), quantile=np.float64(14.2))"
      ]
     },
     "execution_count": 77,
     "metadata": {},
     "output_type": "execute_result"
    }
   ],
   "source": [
    "max(results, key=lambda res: res.quantile)"
   ]
  },
  {
   "cell_type": "markdown",
   "id": "fc6a37e9",
   "metadata": {},
   "source": [
    "## Q4. Dashboard"
   ]
  },
  {
   "cell_type": "code",
   "execution_count": 90,
   "id": "f09b3c9c",
   "metadata": {},
   "outputs": [],
   "source": [
    "create_table_statement = \"\"\"\n",
    "drop table if exists evals;\n",
    "create table evals(\n",
    "\tday timestamp,\n",
    "\tmean FLOAT,\n",
    "\tquantile FLOAT\n",
    ");\n",
    "\"\"\""
   ]
  },
  {
   "cell_type": "code",
   "execution_count": 92,
   "id": "e1def0af",
   "metadata": {},
   "outputs": [],
   "source": [
    "with psycopg.connect(\"host=localhost port=5432 dbname=monitoring user=admin password=admin\", autocommit=True) as conn:\n",
    "\tconn.execute(create_table_statement)\n",
    "\tfor res in results:\n",
    "\t\tconn.execute(\n",
    "\t\t\t\"insert into evals(day, mean, quantile) values (%s, %s, %s)\",\n",
    "\t\t\t(datetime(year=2024, month=3, day=res.day), res.mean, res.quantile)\n",
    "\t\t)"
   ]
  },
  {
   "cell_type": "markdown",
   "id": "1f4fea19",
   "metadata": {},
   "source": [
    "Q4 solution: project_folder/dashboards\n",
    "![homework solution graphs.png](../assets/homework%20solution%20graphs.png)"
   ]
  },
  {
   "cell_type": "markdown",
   "id": "1263ba60",
   "metadata": {},
   "source": []
  }
 ],
 "metadata": {
  "kernelspec": {
   "display_name": "MLOps-zoomcamp-SN1OqVDr",
   "language": "python",
   "name": "python3"
  },
  "language_info": {
   "codemirror_mode": {
    "name": "ipython",
    "version": 3
   },
   "file_extension": ".py",
   "mimetype": "text/x-python",
   "name": "python",
   "nbconvert_exporter": "python",
   "pygments_lexer": "ipython3",
   "version": "3.13.0"
  }
 },
 "nbformat": 4,
 "nbformat_minor": 5
}
