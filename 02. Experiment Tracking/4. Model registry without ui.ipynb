{
 "cells": [
  {
   "cell_type": "markdown",
   "id": "8d495c5b",
   "metadata": {},
   "source": [
    "# Discovering MlflowClient API \n",
    "\n",
    "- Create experiment\n",
    "- List experiments\n",
    "- Discovering experiment runs\n",
    "- Manipulating runs info and data\n",
    "- Model register\n",
    "- Model versioning\n",
    "- Testing models as a deployment engineer \n",
    "- Modify model alieses "
   ]
  },
  {
   "cell_type": "code",
   "execution_count": 3,
   "id": "a7caab52",
   "metadata": {},
   "outputs": [],
   "source": [
    "from mlflow.tracking import MlflowClient\n",
    "from mlflow.entities import ViewType\n",
    "\n",
    "client = MlflowClient(tracking_uri=\"sqlite:///mlflow.db\")"
   ]
  },
  {
   "cell_type": "markdown",
   "id": "5f42caa8",
   "metadata": {},
   "source": [
    "### Experiments"
   ]
  },
  {
   "cell_type": "code",
   "execution_count": 2,
   "id": "123db5df",
   "metadata": {},
   "outputs": [
    {
     "data": {
      "text/plain": [
       "'1'"
      ]
     },
     "execution_count": 2,
     "metadata": {},
     "output_type": "execute_result"
    }
   ],
   "source": [
    "experiment_tags = {\n",
    "  \"developer\": \"kamal\",\n",
    "  \"data\": \"nyc-taxi\"\n",
    "}\n",
    "\n",
    "# created new experiment\n",
    "# articat location parameter if None defaults to \"mlfurn/{experiment_id}\"\n",
    "client.create_experiment(\"nyc-taxi-experiment\", tags=experiment_tags)"
   ]
  },
  {
   "cell_type": "code",
   "execution_count": 7,
   "id": "1e510c52",
   "metadata": {},
   "outputs": [
    {
     "name": "stdout",
     "output_type": "stream",
     "text": [
      "There exist 2 experiments\n",
      "0: Default\n",
      "1: nyc-taxi-experiment\n",
      "\tdeveloper: kamal\n",
      "\tdata: nyc-taxi\n"
     ]
    }
   ],
   "source": [
    "# dicovering existing experiment\n",
    "existing_experiments = client.search_experiments()\n",
    "\n",
    "print(f\"There exist {len(existing_experiments)} experiments\")\n",
    "for exp in sorted(existing_experiments, key=lambda exp: exp.experiment_id):\n",
    "  print(f\"{exp.experiment_id}: {exp.name}\")\n",
    "  for key, value in exp.tags.items():\n",
    "    print(f\"\\t{key}: {value}\")"
   ]
  },
  {
   "cell_type": "markdown",
   "id": "fac439ee",
   "metadata": {},
   "source": [
    "### Creating some Runs"
   ]
  },
  {
   "cell_type": "code",
   "execution_count": 1,
   "id": "c92e93c2",
   "metadata": {},
   "outputs": [],
   "source": [
    "import xgboost as xgb\n",
    "from sklearn.metrics import root_mean_squared_error\n",
    "from sklearn.linear_model import LinearRegression, Lasso\n",
    "from sklearn.ensemble import RandomForestRegressor\n",
    "from sklearn.tree import DecisionTreeRegressor\n",
    "from sklearn.feature_extraction import DictVectorizer\n",
    "\n",
    "from data_loader import read_dataframe"
   ]
  },
  {
   "cell_type": "code",
   "execution_count": 2,
   "id": "2ce59961",
   "metadata": {},
   "outputs": [],
   "source": [
    "training_data = [\"../data/green_tripdata_2021-01.parquet\"]\n",
    "validation_data = [\"../data/green_tripdata_2021-03.parquet\"]\n",
    "test_data = [\"../data/green_tripdata_2021-04.parquet\"]"
   ]
  },
  {
   "cell_type": "code",
   "execution_count": 3,
   "id": "d2af75bf",
   "metadata": {},
   "outputs": [
    {
     "data": {
      "text/plain": [
       "((73908, 3), (80372, 3))"
      ]
     },
     "execution_count": 3,
     "metadata": {},
     "output_type": "execute_result"
    }
   ],
   "source": [
    "df_train = read_dataframe(*training_data)\n",
    "df_validation = read_dataframe(*validation_data)\n",
    "\n",
    "df_train.shape, df_validation.shape"
   ]
  },
  {
   "cell_type": "code",
   "execution_count": 4,
   "id": "a1acc85c",
   "metadata": {},
   "outputs": [],
   "source": [
    "features = ['PU_DO', 'trip_distance']\n",
    "target = 'duration'\n",
    "\n",
    "dv = DictVectorizer()\n",
    "\n",
    "X_train = dv.fit_transform(df_train[features].to_dict(orient=\"records\"))\n",
    "X_validation = dv.transform(df_validation[features].to_dict(orient=\"records\"))\n",
    "\n",
    "y_train = df_train[target]\n",
    "y_validation = df_validation[target]"
   ]
  },
  {
   "cell_type": "code",
   "execution_count": 5,
   "id": "83d741be",
   "metadata": {},
   "outputs": [
    {
     "name": "stderr",
     "output_type": "stream",
     "text": [
      "2025/06/14 08:28:30 INFO mlflow.store.db.utils: Creating initial MLflow database tables...\n",
      "2025/06/14 08:28:30 INFO mlflow.store.db.utils: Updating database tables\n",
      "INFO  [alembic.runtime.migration] Context impl SQLiteImpl.\n",
      "INFO  [alembic.runtime.migration] Will assume non-transactional DDL.\n",
      "INFO  [alembic.runtime.migration] Running upgrade  -> 451aebb31d03, add metric step\n",
      "INFO  [alembic.runtime.migration] Running upgrade 451aebb31d03 -> 90e64c465722, migrate user column to tags\n",
      "INFO  [alembic.runtime.migration] Running upgrade 90e64c465722 -> 181f10493468, allow nulls for metric values\n",
      "INFO  [alembic.runtime.migration] Running upgrade 181f10493468 -> df50e92ffc5e, Add Experiment Tags Table\n",
      "INFO  [alembic.runtime.migration] Running upgrade df50e92ffc5e -> 7ac759974ad8, Update run tags with larger limit\n",
      "INFO  [alembic.runtime.migration] Running upgrade 7ac759974ad8 -> 89d4b8295536, create latest metrics table\n",
      "INFO  [89d4b8295536_create_latest_metrics_table_py] Migration complete!\n",
      "INFO  [alembic.runtime.migration] Running upgrade 89d4b8295536 -> 2b4d017a5e9b, add model registry tables to db\n",
      "INFO  [2b4d017a5e9b_add_model_registry_tables_to_db_py] Adding registered_models and model_versions tables to database.\n",
      "INFO  [2b4d017a5e9b_add_model_registry_tables_to_db_py] Migration complete!\n",
      "INFO  [alembic.runtime.migration] Running upgrade 2b4d017a5e9b -> cfd24bdc0731, Update run status constraint with killed\n",
      "INFO  [alembic.runtime.migration] Running upgrade cfd24bdc0731 -> 0a8213491aaa, drop_duplicate_killed_constraint\n",
      "INFO  [alembic.runtime.migration] Running upgrade 0a8213491aaa -> 728d730b5ebd, add registered model tags table\n",
      "INFO  [alembic.runtime.migration] Running upgrade 728d730b5ebd -> 27a6a02d2cf1, add model version tags table\n",
      "INFO  [alembic.runtime.migration] Running upgrade 27a6a02d2cf1 -> 84291f40a231, add run_link to model_version\n",
      "INFO  [alembic.runtime.migration] Running upgrade 84291f40a231 -> a8c4a736bde6, allow nulls for run_id\n",
      "INFO  [alembic.runtime.migration] Running upgrade a8c4a736bde6 -> 39d1c3be5f05, add_is_nan_constraint_for_metrics_tables_if_necessary\n",
      "INFO  [alembic.runtime.migration] Running upgrade 39d1c3be5f05 -> c48cb773bb87, reset_default_value_for_is_nan_in_metrics_table_for_mysql\n",
      "INFO  [alembic.runtime.migration] Running upgrade c48cb773bb87 -> bd07f7e963c5, create index on run_uuid\n",
      "INFO  [alembic.runtime.migration] Running upgrade bd07f7e963c5 -> 0c779009ac13, add deleted_time field to runs table\n",
      "INFO  [alembic.runtime.migration] Running upgrade 0c779009ac13 -> cc1f77228345, change param value length to 500\n",
      "INFO  [alembic.runtime.migration] Running upgrade cc1f77228345 -> 97727af70f4d, Add creation_time and last_update_time to experiments table\n",
      "INFO  [alembic.runtime.migration] Running upgrade 97727af70f4d -> 3500859a5d39, Add Model Aliases table\n",
      "INFO  [alembic.runtime.migration] Running upgrade 3500859a5d39 -> 7f2a7d5fae7d, add datasets inputs input_tags tables\n",
      "INFO  [alembic.runtime.migration] Running upgrade 7f2a7d5fae7d -> 2d6e25af4d3e, increase max param val length from 500 to 8000\n",
      "INFO  [alembic.runtime.migration] Running upgrade 2d6e25af4d3e -> acf3f17fdcc7, add storage location field to model versions\n",
      "INFO  [alembic.runtime.migration] Running upgrade acf3f17fdcc7 -> 867495a8f9d4, add trace tables\n",
      "INFO  [alembic.runtime.migration] Running upgrade 867495a8f9d4 -> 5b0e9adcef9c, add cascade deletion to trace tables foreign keys\n",
      "INFO  [alembic.runtime.migration] Running upgrade 5b0e9adcef9c -> 4465047574b1, increase max dataset schema size\n",
      "INFO  [alembic.runtime.migration] Running upgrade 4465047574b1 -> f5a4f2784254, increase run tag value limit to 8000\n",
      "INFO  [alembic.runtime.migration] Running upgrade f5a4f2784254 -> 0584bdc529eb, add cascading deletion to datasets from experiments\n",
      "INFO  [alembic.runtime.migration] Running upgrade 0584bdc529eb -> 400f98739977, add logged model tables\n",
      "INFO  [alembic.runtime.migration] Running upgrade 400f98739977 -> 6953534de441, add step to inputs table\n",
      "INFO  [alembic.runtime.migration] Context impl SQLiteImpl.\n",
      "INFO  [alembic.runtime.migration] Will assume non-transactional DDL.\n",
      "2025/06/14 08:28:31 INFO mlflow.tracking.fluent: Experiment with name 'nyc-taxi-experiment' does not exist. Creating a new experiment.\n"
     ]
    },
    {
     "data": {
      "text/plain": [
       "<Experiment: artifact_location='/Users/Kamal/WorkSpace/MLOps-zoomcamp/02. Experiment Tracking/mlruns/1', creation_time=1749878911614, experiment_id='1', last_update_time=1749878911614, lifecycle_stage='active', name='nyc-taxi-experiment', tags={}>"
      ]
     },
     "execution_count": 5,
     "metadata": {},
     "output_type": "execute_result"
    }
   ],
   "source": [
    "import mlflow\n",
    "\n",
    "mlflow.set_tracking_uri(\"sqlite:///mlflow.db\")\n",
    "# This method should create the experiment if not exists\n",
    "# But I created the experiment with same name on the prev step so mlflow will just use it\n",
    "mlflow.set_experiment(experiment_name=\"nyc-taxi-experiment\")\n",
    "# mlflow.autolog(disable=True)"
   ]
  },
  {
   "cell_type": "code",
   "execution_count": 15,
   "id": "0087148d",
   "metadata": {},
   "outputs": [],
   "source": [
    "sklearn_models = [\n",
    "  LinearRegression(), \n",
    "  Lasso(alpha=0.01, random_state=42),\n",
    "  DecisionTreeRegressor(max_depth=3, random_state=42),\n",
    "  RandomForestRegressor(n_estimators=5, max_depth=3, random_state=42)\n",
    "]\n",
    "\n",
    "runs = []"
   ]
  },
  {
   "cell_type": "code",
   "execution_count": null,
   "id": "af1e800a",
   "metadata": {},
   "outputs": [
    {
     "name": "stderr",
     "output_type": "stream",
     "text": [
      "2025/06/14 07:20:29 WARNING mlflow.sklearn: Failed to log training dataset information to MLflow Tracking. Reason: 'Series' object has no attribute 'flatten'\n",
      "2025/06/14 07:20:33 WARNING mlflow.utils.environment: Failed to resolve installed pip version. ``pip`` will be added to conda.yaml environment spec without a version specifier.\n",
      "2025/06/14 07:21:10 WARNING mlflow.sklearn: Failed to log training dataset information to MLflow Tracking. Reason: 'Series' object has no attribute 'flatten'\n",
      "2025/06/14 07:21:16 WARNING mlflow.utils.environment: Failed to resolve installed pip version. ``pip`` will be added to conda.yaml environment spec without a version specifier.\n",
      "2025/06/14 07:21:56 WARNING mlflow.sklearn: Failed to log training dataset information to MLflow Tracking. Reason: 'Series' object has no attribute 'flatten'\n",
      "2025/06/14 07:22:01 WARNING mlflow.utils.environment: Failed to resolve installed pip version. ``pip`` will be added to conda.yaml environment spec without a version specifier.\n",
      "2025/06/14 07:22:40 WARNING mlflow.sklearn: Failed to log training dataset information to MLflow Tracking. Reason: 'Series' object has no attribute 'flatten'\n",
      "2025/06/14 07:22:45 WARNING mlflow.utils.environment: Failed to resolve installed pip version. ``pip`` will be added to conda.yaml environment spec without a version specifier.\n"
     ]
    }
   ],
   "source": [
    "for model in sklearn_models:\n",
    "  model_name = str(model)\n",
    "  model_name = model_name[:model_name.index(\"(\")]\n",
    "  with mlflow.start_run(run_name=model_name):\n",
    "    trained_model = model.fit(X_train, y_train)\n",
    "    validation_rmse = root_mean_squared_error(y_true = y_validation, y_pred = trained_model.predict(X_validation))\n",
    "\n",
    "    current_run = mlflow.active_run()\n",
    "    runs.append({\"id\": mlflow.active_run().info.run_id, \"name\": mlflow.active_run().info.run_name})\n",
    "    mlflow.log_metric(\"rmse\", validation_rmse)"
   ]
  },
  {
   "cell_type": "code",
   "execution_count": 22,
   "id": "fc94bce3",
   "metadata": {},
   "outputs": [
    {
     "name": "stdout",
     "output_type": "stream",
     "text": [
      "949ee4f1ba8a4115a7bc0b896dc7c61d: LinearRegression\n",
      "0cd8b12ae8bd4425b0128c7aef2a9a3e: Lasso\n",
      "4e79b0f6cb3d4ee18a8c1c6ec44de0dd: DecisionTreeRegressor\n",
      "539c35c128a440d9860ec146d0ffd755: RandomForestRegressor\n"
     ]
    }
   ],
   "source": [
    "for run in runs:\n",
    "  print(f\"{run['id']}: {run['name']}\")"
   ]
  },
  {
   "cell_type": "markdown",
   "id": "4aba7a7d",
   "metadata": {},
   "source": [
    "### Discovering runs"
   ]
  },
  {
   "cell_type": "code",
   "execution_count": 27,
   "id": "e013df42",
   "metadata": {},
   "outputs": [],
   "source": [
    "retrieved_runs = client.search_runs(\n",
    "  experiment_ids=\"1\",\n",
    "  filter_string=\"\",\n",
    "  run_view_type=ViewType.ACTIVE_ONLY,\n",
    "  order_by=[\"metrics.rmse ASC\"]\n",
    ")\n",
    "\n",
    "assert len(retrieved_runs) == len(runs)\n",
    "for run in retrieved_runs:\n",
    "  assert run.info.run_id in list(map(lambda run: run[\"id\"], runs))"
   ]
  },
  {
   "cell_type": "code",
   "execution_count": 28,
   "id": "9fd7a0e1",
   "metadata": {},
   "outputs": [
    {
     "name": "stdout",
     "output_type": "stream",
     "text": [
      "RandomForestRegressor: 6.968664183814947\n",
      "DecisionTreeRegressor: 6.979494582822017\n",
      "LinearRegression: 7.7207352354521595\n",
      "Lasso: 11.254830162401234\n"
     ]
    }
   ],
   "source": [
    "for run in retrieved_runs:\n",
    "  print(f\"{run.info.run_name}: {run.data.metrics['rmse']}\")"
   ]
  },
  {
   "cell_type": "code",
   "execution_count": 32,
   "id": "32c4173f",
   "metadata": {},
   "outputs": [
    {
     "name": "stdout",
     "output_type": "stream",
     "text": [
      "RandomForestRegressor: 6.968664183814947\n",
      "DecisionTreeRegressor: 6.979494582822017\n"
     ]
    }
   ],
   "source": [
    "# get run by condition\n",
    "for run in client.search_runs(experiment_ids=\"1\", filter_string=\"metrics.rmse < 7\", order_by=[\"metrics.rmse ASC\"]):\n",
    "  print(f\"{run.info.run_name}: {run.data.metrics['rmse']}\")"
   ]
  },
  {
   "cell_type": "code",
   "execution_count": 38,
   "id": "abadddd0",
   "metadata": {},
   "outputs": [
    {
     "data": {
      "text/html": [
       "<div>\n",
       "<style scoped>\n",
       "    .dataframe tbody tr th:only-of-type {\n",
       "        vertical-align: middle;\n",
       "    }\n",
       "\n",
       "    .dataframe tbody tr th {\n",
       "        vertical-align: top;\n",
       "    }\n",
       "\n",
       "    .dataframe thead th {\n",
       "        text-align: right;\n",
       "    }\n",
       "</style>\n",
       "<table border=\"1\" class=\"dataframe\">\n",
       "  <thead>\n",
       "    <tr style=\"text-align: right;\">\n",
       "      <th></th>\n",
       "      <th>run_id</th>\n",
       "      <th>metrics.rmse</th>\n",
       "    </tr>\n",
       "  </thead>\n",
       "  <tbody>\n",
       "    <tr>\n",
       "      <th>0</th>\n",
       "      <td>539c35c128a440d9860ec146d0ffd755</td>\n",
       "      <td>6.968664</td>\n",
       "    </tr>\n",
       "    <tr>\n",
       "      <th>1</th>\n",
       "      <td>4e79b0f6cb3d4ee18a8c1c6ec44de0dd</td>\n",
       "      <td>6.979495</td>\n",
       "    </tr>\n",
       "  </tbody>\n",
       "</table>\n",
       "</div>"
      ],
      "text/plain": [
       "                             run_id  metrics.rmse\n",
       "0  539c35c128a440d9860ec146d0ffd755      6.968664\n",
       "1  4e79b0f6cb3d4ee18a8c1c6ec44de0dd      6.979495"
      ]
     },
     "execution_count": 38,
     "metadata": {},
     "output_type": "execute_result"
    }
   ],
   "source": [
    "mlflow.search_runs(experiment_ids=\"1\", filter_string=\"metrics.rmse < 7\", order_by=[\"metrics.rmse ASC\"])[[\"run_id\", \"metrics.rmse\"]]"
   ]
  },
  {
   "cell_type": "markdown",
   "id": "3de99141",
   "metadata": {},
   "source": [
    "## Staging models\n",
    "\n",
    "After discovering the deciding the best models, now you can register some models to the model_registery.\n",
    "That's where the ML engineer or the deployment engineer testing models and choosing which model to deploy\n",
    "\n",
    "data scientest => work till ML models staging \\\n",
    "deployment engineer => work on the staging models and decides which to deploy"
   ]
  },
  {
   "cell_type": "code",
   "execution_count": 40,
   "id": "164fe79e",
   "metadata": {},
   "outputs": [],
   "source": [
    "REGISTERED_MODEL_NAME = \"nyc-taxi-model\""
   ]
  },
  {
   "cell_type": "markdown",
   "id": "7aeeb22b",
   "metadata": {},
   "source": [
    "#### Note\n",
    "\n",
    "There are 2 methods to create a containing registry model:\n",
    "1. using mlflow.register_model(mode_uri, containing_model_name) \\\n",
    "  This method will create the containing model if not exists\n",
    "2. using client.create_registered_mode(containing_model_name) \\\n",
    "   using client.create_model_version(containing_model_name, model_uri, version_tags, description) \\\n",
    "   THis method gives more control over the creation and maintaining of the model and their versions"
   ]
  },
  {
   "cell_type": "code",
   "execution_count": null,
   "id": "450396b5",
   "metadata": {},
   "outputs": [],
   "source": [
    "mlflow.register_model()"
   ]
  },
  {
   "cell_type": "code",
   "execution_count": null,
   "id": "7b932bc3",
   "metadata": {},
   "outputs": [
    {
     "data": {
      "text/plain": [
       "<RegisteredModel: aliases={}, creation_timestamp=1749775356656, description=None, last_updated_timestamp=1749775356656, latest_versions=[], name='automatic_registry_1', tags={}>"
      ]
     },
     "execution_count": 22,
     "metadata": {},
     "output_type": "execute_result"
    }
   ],
   "source": [
    "client.create_registered_model(name=REGISTERED_MODEL_NAME)\n",
    "client.al"
   ]
  },
  {
   "cell_type": "code",
   "execution_count": null,
   "id": "86309c63",
   "metadata": {},
   "outputs": [
    {
     "ename": "MlflowException",
     "evalue": "Registered Model with name=automatic_registry_1XX not found",
     "output_type": "error",
     "traceback": [
      "\u001b[0;31m---------------------------------------------------------------------------\u001b[0m",
      "\u001b[0;31mMlflowException\u001b[0m                           Traceback (most recent call last)",
      "Cell \u001b[0;32mIn[7], line 1\u001b[0m\n\u001b[0;32m----> 1\u001b[0m \u001b[43mclient\u001b[49m\u001b[38;5;241;43m.\u001b[39;49m\u001b[43mcreate_model_version\u001b[49m\u001b[43m(\u001b[49m\n\u001b[1;32m      2\u001b[0m \u001b[43m  \u001b[49m\u001b[43mname\u001b[49m\u001b[38;5;241;43m=\u001b[39;49m\u001b[43mREGISTERED_MODEL_NAME\u001b[49m\u001b[43m \u001b[49m\u001b[38;5;241;43m+\u001b[39;49m\u001b[43m \u001b[49m\u001b[38;5;124;43m\"\u001b[39;49m\u001b[38;5;124;43mXX\u001b[39;49m\u001b[38;5;124;43m\"\u001b[39;49m\u001b[43m,\u001b[49m\u001b[43m \u001b[49m\n\u001b[1;32m      3\u001b[0m \u001b[43m  \u001b[49m\u001b[43msource\u001b[49m\u001b[38;5;241;43m=\u001b[39;49m\u001b[38;5;124;43m\"\u001b[39;49m\u001b[38;5;124;43mruns:/7e4de4b900ae48a28eb1afb06bf8868c/model\u001b[39;49m\u001b[38;5;124;43m\"\u001b[39;49m\u001b[43m,\u001b[49m\u001b[43m \u001b[49m\n\u001b[1;32m      4\u001b[0m \u001b[43m  \u001b[49m\u001b[43mtags\u001b[49m\u001b[38;5;241;43m=\u001b[39;49m\u001b[43m{\u001b[49m\u001b[38;5;124;43m\"\u001b[39;49m\u001b[38;5;124;43mtest\u001b[39;49m\u001b[38;5;124;43m\"\u001b[39;49m\u001b[43m:\u001b[49m\u001b[43m \u001b[49m\u001b[38;5;124;43m\"\u001b[39;49m\u001b[38;5;124;43mhamada\u001b[39;49m\u001b[38;5;124;43m\"\u001b[39;49m\u001b[43m}\u001b[49m\u001b[43m,\u001b[49m\u001b[43m \u001b[49m\n\u001b[1;32m      5\u001b[0m \u001b[43m  \u001b[49m\u001b[43mdescription\u001b[49m\u001b[38;5;241;43m=\u001b[39;49m\u001b[38;5;124;43m\"\u001b[39;49m\u001b[38;5;124;43mdescription test\u001b[39;49m\u001b[38;5;124;43m\"\u001b[39;49m\u001b[43m)\u001b[49m\n",
      "File \u001b[0;32m~/anaconda3/envs/mlflow-tracking/lib/python3.9/site-packages/mlflow/tracking/client.py:4194\u001b[0m, in \u001b[0;36mMlflowClient.create_model_version\u001b[0;34m(self, name, source, run_id, tags, run_link, description, await_creation_for)\u001b[0m\n\u001b[1;32m   4116\u001b[0m \u001b[38;5;28;01mdef\u001b[39;00m\u001b[38;5;250m \u001b[39m\u001b[38;5;21mcreate_model_version\u001b[39m(\n\u001b[1;32m   4117\u001b[0m     \u001b[38;5;28mself\u001b[39m,\n\u001b[1;32m   4118\u001b[0m     name: \u001b[38;5;28mstr\u001b[39m,\n\u001b[0;32m   (...)\u001b[0m\n\u001b[1;32m   4124\u001b[0m     await_creation_for: \u001b[38;5;28mint\u001b[39m \u001b[38;5;241m=\u001b[39m DEFAULT_AWAIT_MAX_SLEEP_SECONDS,\n\u001b[1;32m   4125\u001b[0m ) \u001b[38;5;241m-\u001b[39m\u001b[38;5;241m>\u001b[39m ModelVersion:\n\u001b[1;32m   4126\u001b[0m \u001b[38;5;250m    \u001b[39m\u001b[38;5;124;03m\"\"\"\u001b[39;00m\n\u001b[1;32m   4127\u001b[0m \u001b[38;5;124;03m    Create a new model version from given source.\u001b[39;00m\n\u001b[1;32m   4128\u001b[0m \n\u001b[0;32m   (...)\u001b[0m\n\u001b[1;32m   4192\u001b[0m \u001b[38;5;124;03m        Stage: None\u001b[39;00m\n\u001b[1;32m   4193\u001b[0m \u001b[38;5;124;03m    \"\"\"\u001b[39;00m\n\u001b[0;32m-> 4194\u001b[0m     \u001b[38;5;28;01mreturn\u001b[39;00m \u001b[38;5;28;43mself\u001b[39;49m\u001b[38;5;241;43m.\u001b[39;49m\u001b[43m_create_model_version\u001b[49m\u001b[43m(\u001b[49m\n\u001b[1;32m   4195\u001b[0m \u001b[43m        \u001b[49m\u001b[43mname\u001b[49m\u001b[38;5;241;43m=\u001b[39;49m\u001b[43mname\u001b[49m\u001b[43m,\u001b[49m\n\u001b[1;32m   4196\u001b[0m \u001b[43m        \u001b[49m\u001b[43msource\u001b[49m\u001b[38;5;241;43m=\u001b[39;49m\u001b[43msource\u001b[49m\u001b[43m,\u001b[49m\n\u001b[1;32m   4197\u001b[0m \u001b[43m        \u001b[49m\u001b[43mrun_id\u001b[49m\u001b[38;5;241;43m=\u001b[39;49m\u001b[43mrun_id\u001b[49m\u001b[43m,\u001b[49m\n\u001b[1;32m   4198\u001b[0m \u001b[43m        \u001b[49m\u001b[43mtags\u001b[49m\u001b[38;5;241;43m=\u001b[39;49m\u001b[43mtags\u001b[49m\u001b[43m,\u001b[49m\n\u001b[1;32m   4199\u001b[0m \u001b[43m        \u001b[49m\u001b[43mrun_link\u001b[49m\u001b[38;5;241;43m=\u001b[39;49m\u001b[43mrun_link\u001b[49m\u001b[43m,\u001b[49m\n\u001b[1;32m   4200\u001b[0m \u001b[43m        \u001b[49m\u001b[43mdescription\u001b[49m\u001b[38;5;241;43m=\u001b[39;49m\u001b[43mdescription\u001b[49m\u001b[43m,\u001b[49m\n\u001b[1;32m   4201\u001b[0m \u001b[43m        \u001b[49m\u001b[43mawait_creation_for\u001b[49m\u001b[38;5;241;43m=\u001b[39;49m\u001b[43mawait_creation_for\u001b[49m\u001b[43m,\u001b[49m\n\u001b[1;32m   4202\u001b[0m \u001b[43m    \u001b[49m\u001b[43m)\u001b[49m\n",
      "File \u001b[0;32m~/anaconda3/envs/mlflow-tracking/lib/python3.9/site-packages/mlflow/tracking/client.py:4105\u001b[0m, in \u001b[0;36mMlflowClient._create_model_version\u001b[0;34m(self, name, source, run_id, tags, run_link, description, await_creation_for, local_model_path)\u001b[0m\n\u001b[1;32m   4097\u001b[0m     \u001b[38;5;66;03m# NOTE: we can't easily delete the target temp location due to the async nature\u001b[39;00m\n\u001b[1;32m   4098\u001b[0m     \u001b[38;5;66;03m# of the model version creation - printing to let the user know.\u001b[39;00m\n\u001b[1;32m   4099\u001b[0m     eprint(\n\u001b[1;32m   4100\u001b[0m         \u001b[38;5;124mf\u001b[39m\u001b[38;5;124m\"\u001b[39m\u001b[38;5;124m=== Source model files were copied to \u001b[39m\u001b[38;5;132;01m{\u001b[39;00mnew_source\u001b[38;5;132;01m}\u001b[39;00m\u001b[38;5;124m\"\u001b[39m\n\u001b[1;32m   4101\u001b[0m         \u001b[38;5;241m+\u001b[39m \u001b[38;5;124m\"\u001b[39m\u001b[38;5;124m in the model registry workspace. You may want to delete the files once the\u001b[39m\u001b[38;5;124m\"\u001b[39m\n\u001b[1;32m   4102\u001b[0m         \u001b[38;5;241m+\u001b[39m \u001b[38;5;124m\"\u001b[39m\u001b[38;5;124m model version is in \u001b[39m\u001b[38;5;124m'\u001b[39m\u001b[38;5;124mREADY\u001b[39m\u001b[38;5;124m'\u001b[39m\u001b[38;5;124m status. You can also find this location in the\u001b[39m\u001b[38;5;124m\"\u001b[39m\n\u001b[1;32m   4103\u001b[0m         \u001b[38;5;241m+\u001b[39m \u001b[38;5;124m\"\u001b[39m\u001b[38;5;124m `source` field of the created model version. ===\u001b[39m\u001b[38;5;124m\"\u001b[39m\n\u001b[1;32m   4104\u001b[0m     )\n\u001b[0;32m-> 4105\u001b[0m \u001b[38;5;28;01mreturn\u001b[39;00m \u001b[38;5;28;43mself\u001b[39;49m\u001b[38;5;241;43m.\u001b[39;49m\u001b[43m_get_registry_client\u001b[49m\u001b[43m(\u001b[49m\u001b[43m)\u001b[49m\u001b[38;5;241;43m.\u001b[39;49m\u001b[43mcreate_model_version\u001b[49m\u001b[43m(\u001b[49m\n\u001b[1;32m   4106\u001b[0m \u001b[43m    \u001b[49m\u001b[43mname\u001b[49m\u001b[38;5;241;43m=\u001b[39;49m\u001b[43mname\u001b[49m\u001b[43m,\u001b[49m\n\u001b[1;32m   4107\u001b[0m \u001b[43m    \u001b[49m\u001b[43msource\u001b[49m\u001b[38;5;241;43m=\u001b[39;49m\u001b[43mnew_source\u001b[49m\u001b[43m,\u001b[49m\n\u001b[1;32m   4108\u001b[0m \u001b[43m    \u001b[49m\u001b[43mrun_id\u001b[49m\u001b[38;5;241;43m=\u001b[39;49m\u001b[43mrun_id\u001b[49m\u001b[43m,\u001b[49m\n\u001b[1;32m   4109\u001b[0m \u001b[43m    \u001b[49m\u001b[43mtags\u001b[49m\u001b[38;5;241;43m=\u001b[39;49m\u001b[43mtags\u001b[49m\u001b[43m,\u001b[49m\n\u001b[1;32m   4110\u001b[0m \u001b[43m    \u001b[49m\u001b[43mrun_link\u001b[49m\u001b[38;5;241;43m=\u001b[39;49m\u001b[43mrun_link\u001b[49m\u001b[43m,\u001b[49m\n\u001b[1;32m   4111\u001b[0m \u001b[43m    \u001b[49m\u001b[43mdescription\u001b[49m\u001b[38;5;241;43m=\u001b[39;49m\u001b[43mdescription\u001b[49m\u001b[43m,\u001b[49m\n\u001b[1;32m   4112\u001b[0m \u001b[43m    \u001b[49m\u001b[43mawait_creation_for\u001b[49m\u001b[38;5;241;43m=\u001b[39;49m\u001b[43mawait_creation_for\u001b[49m\u001b[43m,\u001b[49m\n\u001b[1;32m   4113\u001b[0m \u001b[43m    \u001b[49m\u001b[43mlocal_model_path\u001b[49m\u001b[38;5;241;43m=\u001b[39;49m\u001b[43mlocal_model_path\u001b[49m\u001b[43m,\u001b[49m\n\u001b[1;32m   4114\u001b[0m \u001b[43m\u001b[49m\u001b[43m)\u001b[49m\n",
      "File \u001b[0;32m~/anaconda3/envs/mlflow-tracking/lib/python3.9/site-packages/mlflow/tracking/_model_registry/client.py:229\u001b[0m, in \u001b[0;36mModelRegistryClient.create_model_version\u001b[0;34m(self, name, source, run_id, tags, run_link, description, await_creation_for, local_model_path)\u001b[0m\n\u001b[1;32m    227\u001b[0m arg_names \u001b[38;5;241m=\u001b[39m _get_arg_names(\u001b[38;5;28mself\u001b[39m\u001b[38;5;241m.\u001b[39mstore\u001b[38;5;241m.\u001b[39mcreate_model_version)\n\u001b[1;32m    228\u001b[0m \u001b[38;5;28;01mif\u001b[39;00m \u001b[38;5;124m\"\u001b[39m\u001b[38;5;124mlocal_model_path\u001b[39m\u001b[38;5;124m\"\u001b[39m \u001b[38;5;129;01min\u001b[39;00m arg_names:\n\u001b[0;32m--> 229\u001b[0m     mv \u001b[38;5;241m=\u001b[39m \u001b[38;5;28;43mself\u001b[39;49m\u001b[38;5;241;43m.\u001b[39;49m\u001b[43mstore\u001b[49m\u001b[38;5;241;43m.\u001b[39;49m\u001b[43mcreate_model_version\u001b[49m\u001b[43m(\u001b[49m\n\u001b[1;32m    230\u001b[0m \u001b[43m        \u001b[49m\u001b[43mname\u001b[49m\u001b[43m,\u001b[49m\n\u001b[1;32m    231\u001b[0m \u001b[43m        \u001b[49m\u001b[43msource\u001b[49m\u001b[43m,\u001b[49m\n\u001b[1;32m    232\u001b[0m \u001b[43m        \u001b[49m\u001b[43mrun_id\u001b[49m\u001b[43m,\u001b[49m\n\u001b[1;32m    233\u001b[0m \u001b[43m        \u001b[49m\u001b[43mtags\u001b[49m\u001b[43m,\u001b[49m\n\u001b[1;32m    234\u001b[0m \u001b[43m        \u001b[49m\u001b[43mrun_link\u001b[49m\u001b[43m,\u001b[49m\n\u001b[1;32m    235\u001b[0m \u001b[43m        \u001b[49m\u001b[43mdescription\u001b[49m\u001b[43m,\u001b[49m\n\u001b[1;32m    236\u001b[0m \u001b[43m        \u001b[49m\u001b[43mlocal_model_path\u001b[49m\u001b[38;5;241;43m=\u001b[39;49m\u001b[43mlocal_model_path\u001b[49m\u001b[43m,\u001b[49m\n\u001b[1;32m    237\u001b[0m \u001b[43m    \u001b[49m\u001b[43m)\u001b[49m\n\u001b[1;32m    238\u001b[0m \u001b[38;5;28;01melse\u001b[39;00m:\n\u001b[1;32m    239\u001b[0m     \u001b[38;5;66;03m# Fall back to calling create_model_version without\u001b[39;00m\n\u001b[1;32m    240\u001b[0m     \u001b[38;5;66;03m# local_model_path since old model registry store implementations may not\u001b[39;00m\n\u001b[1;32m    241\u001b[0m     \u001b[38;5;66;03m# support the local_model_path argument.\u001b[39;00m\n\u001b[1;32m    242\u001b[0m     mv \u001b[38;5;241m=\u001b[39m \u001b[38;5;28mself\u001b[39m\u001b[38;5;241m.\u001b[39mstore\u001b[38;5;241m.\u001b[39mcreate_model_version(name, source, run_id, tags, run_link, description)\n",
      "File \u001b[0;32m~/anaconda3/envs/mlflow-tracking/lib/python3.9/site-packages/mlflow/store/model_registry/sqlalchemy_store.py:762\u001b[0m, in \u001b[0;36mSqlAlchemyStore.create_model_version\u001b[0;34m(self, name, source, run_id, tags, run_link, description, local_model_path)\u001b[0m\n\u001b[1;32m    760\u001b[0m \u001b[38;5;28;01mfor\u001b[39;00m attempt \u001b[38;5;129;01min\u001b[39;00m \u001b[38;5;28mrange\u001b[39m(\u001b[38;5;28mself\u001b[39m\u001b[38;5;241m.\u001b[39mCREATE_MODEL_VERSION_RETRIES):\n\u001b[1;32m    761\u001b[0m     \u001b[38;5;28;01mtry\u001b[39;00m:\n\u001b[0;32m--> 762\u001b[0m         sql_registered_model \u001b[38;5;241m=\u001b[39m \u001b[38;5;28;43mself\u001b[39;49m\u001b[38;5;241;43m.\u001b[39;49m\u001b[43m_get_registered_model\u001b[49m\u001b[43m(\u001b[49m\u001b[43msession\u001b[49m\u001b[43m,\u001b[49m\u001b[43m \u001b[49m\u001b[43mname\u001b[49m\u001b[43m)\u001b[49m\n\u001b[1;32m    763\u001b[0m         sql_registered_model\u001b[38;5;241m.\u001b[39mlast_updated_time \u001b[38;5;241m=\u001b[39m creation_time\n\u001b[1;32m    764\u001b[0m         version \u001b[38;5;241m=\u001b[39m next_version(sql_registered_model)\n",
      "File \u001b[0;32m~/anaconda3/envs/mlflow-tracking/lib/python3.9/site-packages/mlflow/store/model_registry/sqlalchemy_store.py:217\u001b[0m, in \u001b[0;36mSqlAlchemyStore._get_registered_model\u001b[0;34m(cls, session, name, eager)\u001b[0m\n\u001b[1;32m    209\u001b[0m rms \u001b[38;5;241m=\u001b[39m (\n\u001b[1;32m    210\u001b[0m     session\u001b[38;5;241m.\u001b[39mquery(SqlRegisteredModel)\n\u001b[1;32m    211\u001b[0m     \u001b[38;5;241m.\u001b[39moptions(\u001b[38;5;241m*\u001b[39mquery_options)\n\u001b[1;32m    212\u001b[0m     \u001b[38;5;241m.\u001b[39mfilter(SqlRegisteredModel\u001b[38;5;241m.\u001b[39mname \u001b[38;5;241m==\u001b[39m name)\n\u001b[1;32m    213\u001b[0m     \u001b[38;5;241m.\u001b[39mall()\n\u001b[1;32m    214\u001b[0m )\n\u001b[1;32m    216\u001b[0m \u001b[38;5;28;01mif\u001b[39;00m \u001b[38;5;28mlen\u001b[39m(rms) \u001b[38;5;241m==\u001b[39m \u001b[38;5;241m0\u001b[39m:\n\u001b[0;32m--> 217\u001b[0m     \u001b[38;5;28;01mraise\u001b[39;00m MlflowException(\n\u001b[1;32m    218\u001b[0m         \u001b[38;5;124mf\u001b[39m\u001b[38;5;124m\"\u001b[39m\u001b[38;5;124mRegistered Model with name=\u001b[39m\u001b[38;5;132;01m{\u001b[39;00mname\u001b[38;5;132;01m}\u001b[39;00m\u001b[38;5;124m not found\u001b[39m\u001b[38;5;124m\"\u001b[39m, RESOURCE_DOES_NOT_EXIST\n\u001b[1;32m    219\u001b[0m     )\n\u001b[1;32m    220\u001b[0m \u001b[38;5;28;01mif\u001b[39;00m \u001b[38;5;28mlen\u001b[39m(rms) \u001b[38;5;241m>\u001b[39m \u001b[38;5;241m1\u001b[39m:\n\u001b[1;32m    221\u001b[0m     \u001b[38;5;28;01mraise\u001b[39;00m MlflowException(\n\u001b[1;32m    222\u001b[0m         \u001b[38;5;124mf\u001b[39m\u001b[38;5;124m\"\u001b[39m\u001b[38;5;124mExpected only 1 registered model with name=\u001b[39m\u001b[38;5;132;01m{\u001b[39;00mname\u001b[38;5;132;01m}\u001b[39;00m\u001b[38;5;124m. Found \u001b[39m\u001b[38;5;132;01m{\u001b[39;00m\u001b[38;5;28mlen\u001b[39m(rms)\u001b[38;5;132;01m}\u001b[39;00m\u001b[38;5;124m.\u001b[39m\u001b[38;5;124m\"\u001b[39m,\n\u001b[1;32m    223\u001b[0m         INVALID_STATE,\n\u001b[1;32m    224\u001b[0m     )\n",
      "\u001b[0;31mMlflowException\u001b[0m: Registered Model with name=automatic_registry_1XX not found"
     ]
    }
   ],
   "source": [
    "client.create_model_version(\n",
    "  name=REGISTERED_MODEL_NAME + \"XX\", \n",
    "  source=\"runs:/7e4de4b900ae48a28eb1afb06bf8868c/model\", \n",
    "  tags={\"test\": \"hamada\"}, \n",
    "  description=\"description test\"\n",
    ")\n"
   ]
  },
  {
   "cell_type": "code",
   "execution_count": 8,
   "id": "486fe939",
   "metadata": {},
   "outputs": [],
   "source": [
    "import mlflow\n",
    "\n",
    "mlflow.set_tracking_uri(\"sqlite:///mlflow.db\")"
   ]
  },
  {
   "cell_type": "code",
   "execution_count": 25,
   "id": "df23ebe5",
   "metadata": {},
   "outputs": [
    {
     "name": "stderr",
     "output_type": "stream",
     "text": [
      "Registered model 'automatic_registry_1' already exists. Creating a new version of this model...\n",
      "Created version '1' of model 'automatic_registry_1'.\n",
      "Registered model 'automatic_registry_1' already exists. Creating a new version of this model...\n",
      "Created version '2' of model 'automatic_registry_1'.\n",
      "Registered model 'automatic_registry_1' already exists. Creating a new version of this model...\n",
      "Created version '3' of model 'automatic_registry_1'.\n"
     ]
    }
   ],
   "source": [
    "for run in runs:\n",
    "  # For every run with the same registered model a new version is created from the same ML-model\n",
    "  mlflow.register_model(model_uri=f\"runs:/{run.info.run_id}/model\", name = REGISTERED_MODEL_NAME)"
   ]
  },
  {
   "cell_type": "code",
   "execution_count": 32,
   "id": "280ef540",
   "metadata": {},
   "outputs": [],
   "source": [
    "client.set_registered_model_alias(REGISTERED_MODEL_NAME, \"gamd_f45\", 1)"
   ]
  },
  {
   "cell_type": "code",
   "execution_count": 36,
   "id": "450d6ece",
   "metadata": {},
   "outputs": [
    {
     "data": {
      "text/plain": [
       "['gamd_f45', 'monster']"
      ]
     },
     "execution_count": 36,
     "metadata": {},
     "output_type": "execute_result"
    }
   ],
   "source": [
    "client.get_model_version(REGISTERED_MODEL_NAME, 1).aliases"
   ]
  },
  {
   "cell_type": "code",
   "execution_count": null,
   "id": "2dabb066",
   "metadata": {},
   "outputs": [],
   "source": [
    "client.update_model_version()"
   ]
  }
 ],
 "metadata": {
  "kernelspec": {
   "display_name": ".venv",
   "language": "python",
   "name": "python3"
  },
  "language_info": {
   "codemirror_mode": {
    "name": "ipython",
    "version": 3
   },
   "file_extension": ".py",
   "mimetype": "text/x-python",
   "name": "python",
   "nbconvert_exporter": "python",
   "pygments_lexer": "ipython3",
   "version": "3.13.0"
  }
 },
 "nbformat": 4,
 "nbformat_minor": 5
}
