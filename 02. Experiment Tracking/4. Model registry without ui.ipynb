{
 "cells": [
  {
   "cell_type": "markdown",
   "id": "8d495c5b",
   "metadata": {},
   "source": [
    "# Discovering MlflowClient API \n",
    "\n",
    "- Create experiment\n",
    "- List experiments\n",
    "- Discovering experiment runs\n",
    "- Manipulating runs info and data\n",
    "- Model register\n",
    "- Model versioning\n",
    "- Testing models as a deployment engineer \n",
    "- Modify model alieses "
   ]
  },
  {
   "cell_type": "code",
   "execution_count": 1,
   "id": "a7caab52",
   "metadata": {},
   "outputs": [
    {
     "name": "stderr",
     "output_type": "stream",
     "text": [
      "2025/06/20 08:58:57 INFO mlflow.store.db.utils: Creating initial MLflow database tables...\n",
      "2025/06/20 08:58:57 INFO mlflow.store.db.utils: Updating database tables\n",
      "INFO  [alembic.runtime.migration] Context impl SQLiteImpl.\n",
      "INFO  [alembic.runtime.migration] Will assume non-transactional DDL.\n",
      "INFO  [alembic.runtime.migration] Running upgrade  -> 451aebb31d03, add metric step\n",
      "INFO  [alembic.runtime.migration] Running upgrade 451aebb31d03 -> 90e64c465722, migrate user column to tags\n",
      "INFO  [alembic.runtime.migration] Running upgrade 90e64c465722 -> 181f10493468, allow nulls for metric values\n",
      "INFO  [alembic.runtime.migration] Running upgrade 181f10493468 -> df50e92ffc5e, Add Experiment Tags Table\n",
      "INFO  [alembic.runtime.migration] Running upgrade df50e92ffc5e -> 7ac759974ad8, Update run tags with larger limit\n",
      "INFO  [alembic.runtime.migration] Running upgrade 7ac759974ad8 -> 89d4b8295536, create latest metrics table\n",
      "INFO  [89d4b8295536_create_latest_metrics_table_py] Migration complete!\n",
      "INFO  [alembic.runtime.migration] Running upgrade 89d4b8295536 -> 2b4d017a5e9b, add model registry tables to db\n",
      "INFO  [2b4d017a5e9b_add_model_registry_tables_to_db_py] Adding registered_models and model_versions tables to database.\n",
      "INFO  [2b4d017a5e9b_add_model_registry_tables_to_db_py] Migration complete!\n",
      "INFO  [alembic.runtime.migration] Running upgrade 2b4d017a5e9b -> cfd24bdc0731, Update run status constraint with killed\n",
      "INFO  [alembic.runtime.migration] Running upgrade cfd24bdc0731 -> 0a8213491aaa, drop_duplicate_killed_constraint\n",
      "INFO  [alembic.runtime.migration] Running upgrade 0a8213491aaa -> 728d730b5ebd, add registered model tags table\n",
      "INFO  [alembic.runtime.migration] Running upgrade 728d730b5ebd -> 27a6a02d2cf1, add model version tags table\n",
      "INFO  [alembic.runtime.migration] Running upgrade 27a6a02d2cf1 -> 84291f40a231, add run_link to model_version\n",
      "INFO  [alembic.runtime.migration] Running upgrade 84291f40a231 -> a8c4a736bde6, allow nulls for run_id\n",
      "INFO  [alembic.runtime.migration] Running upgrade a8c4a736bde6 -> 39d1c3be5f05, add_is_nan_constraint_for_metrics_tables_if_necessary\n",
      "INFO  [alembic.runtime.migration] Running upgrade 39d1c3be5f05 -> c48cb773bb87, reset_default_value_for_is_nan_in_metrics_table_for_mysql\n",
      "INFO  [alembic.runtime.migration] Running upgrade c48cb773bb87 -> bd07f7e963c5, create index on run_uuid\n",
      "INFO  [alembic.runtime.migration] Running upgrade bd07f7e963c5 -> 0c779009ac13, add deleted_time field to runs table\n",
      "INFO  [alembic.runtime.migration] Running upgrade 0c779009ac13 -> cc1f77228345, change param value length to 500\n",
      "INFO  [alembic.runtime.migration] Running upgrade cc1f77228345 -> 97727af70f4d, Add creation_time and last_update_time to experiments table\n",
      "INFO  [alembic.runtime.migration] Running upgrade 97727af70f4d -> 3500859a5d39, Add Model Aliases table\n",
      "INFO  [alembic.runtime.migration] Running upgrade 3500859a5d39 -> 7f2a7d5fae7d, add datasets inputs input_tags tables\n",
      "INFO  [alembic.runtime.migration] Running upgrade 7f2a7d5fae7d -> 2d6e25af4d3e, increase max param val length from 500 to 8000\n",
      "INFO  [alembic.runtime.migration] Running upgrade 2d6e25af4d3e -> acf3f17fdcc7, add storage location field to model versions\n",
      "INFO  [alembic.runtime.migration] Running upgrade acf3f17fdcc7 -> 867495a8f9d4, add trace tables\n",
      "INFO  [alembic.runtime.migration] Running upgrade 867495a8f9d4 -> 5b0e9adcef9c, add cascade deletion to trace tables foreign keys\n",
      "INFO  [alembic.runtime.migration] Running upgrade 5b0e9adcef9c -> 4465047574b1, increase max dataset schema size\n",
      "INFO  [alembic.runtime.migration] Running upgrade 4465047574b1 -> f5a4f2784254, increase run tag value limit to 8000\n",
      "INFO  [alembic.runtime.migration] Running upgrade f5a4f2784254 -> 0584bdc529eb, add cascading deletion to datasets from experiments\n",
      "INFO  [alembic.runtime.migration] Running upgrade 0584bdc529eb -> 400f98739977, add logged model tables\n",
      "INFO  [alembic.runtime.migration] Running upgrade 400f98739977 -> 6953534de441, add step to inputs table\n",
      "INFO  [alembic.runtime.migration] Context impl SQLiteImpl.\n",
      "INFO  [alembic.runtime.migration] Will assume non-transactional DDL.\n"
     ]
    }
   ],
   "source": [
    "from mlflow.tracking import MlflowClient\n",
    "from mlflow.entities import ViewType\n",
    "\n",
    "client = MlflowClient(tracking_uri=\"sqlite:///mlflow.db\")"
   ]
  },
  {
   "cell_type": "markdown",
   "id": "5f42caa8",
   "metadata": {},
   "source": [
    "### Experiments"
   ]
  },
  {
   "cell_type": "code",
   "execution_count": 2,
   "id": "123db5df",
   "metadata": {},
   "outputs": [
    {
     "data": {
      "text/plain": [
       "'1'"
      ]
     },
     "execution_count": 2,
     "metadata": {},
     "output_type": "execute_result"
    }
   ],
   "source": [
    "experiment_tags = {\n",
    "  \"developer\": \"kamal\",\n",
    "  \"data\": \"nyc-taxi\"\n",
    "}\n",
    "\n",
    "# created new experiment\n",
    "# articat location parameter if None defaults to \"mlfurn/{experiment_id}\"\n",
    "client.create_experiment(\"nyc-taxi-experiment\", tags=experiment_tags)"
   ]
  },
  {
   "cell_type": "code",
   "execution_count": 3,
   "id": "1e510c52",
   "metadata": {},
   "outputs": [
    {
     "name": "stdout",
     "output_type": "stream",
     "text": [
      "There exist 2 experiments\n",
      "0: Default\n",
      "1: nyc-taxi-experiment\n",
      "\tdeveloper: kamal\n",
      "\tdata: nyc-taxi\n"
     ]
    }
   ],
   "source": [
    "# dicovering existing experiment\n",
    "existing_experiments = client.search_experiments()\n",
    "\n",
    "print(f\"There exist {len(existing_experiments)} experiments\")\n",
    "for exp in sorted(existing_experiments, key=lambda exp: exp.experiment_id):\n",
    "  print(f\"{exp.experiment_id}: {exp.name}\")\n",
    "  for key, value in exp.tags.items():\n",
    "    print(f\"\\t{key}: {value}\")"
   ]
  },
  {
   "cell_type": "markdown",
   "id": "fac439ee",
   "metadata": {},
   "source": [
    "### Creating some Runs"
   ]
  },
  {
   "cell_type": "code",
   "execution_count": 4,
   "id": "c92e93c2",
   "metadata": {},
   "outputs": [],
   "source": [
    "import xgboost as xgb\n",
    "from sklearn.metrics import root_mean_squared_error\n",
    "from sklearn.linear_model import LinearRegression, Lasso\n",
    "from sklearn.ensemble import RandomForestRegressor\n",
    "from sklearn.tree import DecisionTreeRegressor\n",
    "from sklearn.feature_extraction import DictVectorizer\n",
    "\n",
    "from data_loader import read_dataframe"
   ]
  },
  {
   "cell_type": "code",
   "execution_count": 5,
   "id": "2ce59961",
   "metadata": {},
   "outputs": [],
   "source": [
    "training_data = [\"../data/green_tripdata_2021-01.parquet\"]\n",
    "validation_data = [\"../data/green_tripdata_2021-03.parquet\"]\n",
    "test_data = [\"../data/green_tripdata_2021-02.parquet\"]"
   ]
  },
  {
   "cell_type": "code",
   "execution_count": 6,
   "id": "d2af75bf",
   "metadata": {},
   "outputs": [
    {
     "data": {
      "text/plain": [
       "((73908, 3), (80372, 3))"
      ]
     },
     "execution_count": 6,
     "metadata": {},
     "output_type": "execute_result"
    }
   ],
   "source": [
    "df_train = read_dataframe(*training_data)\n",
    "df_validation = read_dataframe(*validation_data)\n",
    "\n",
    "df_train.shape, df_validation.shape"
   ]
  },
  {
   "cell_type": "code",
   "execution_count": 7,
   "id": "a1acc85c",
   "metadata": {},
   "outputs": [],
   "source": [
    "features = ['PU_DO', 'trip_distance']\n",
    "target = 'duration'\n",
    "\n",
    "dv = DictVectorizer()\n",
    "\n",
    "X_train = dv.fit_transform(df_train[features].to_dict(orient=\"records\"))\n",
    "X_validation = dv.transform(df_validation[features].to_dict(orient=\"records\"))\n",
    "\n",
    "y_train = df_train[target]\n",
    "y_validation = df_validation[target]"
   ]
  },
  {
   "cell_type": "code",
   "execution_count": 8,
   "id": "83d741be",
   "metadata": {},
   "outputs": [],
   "source": [
    "import mlflow\n",
    "import mlflow.sklearn\n",
    "\n",
    "mlflow.set_tracking_uri(\"sqlite:///mlflow.db\")\n",
    "# This method should create the experiment if not exists\n",
    "# But I created the experiment with same name on the prev step so mlflow will just use it\n",
    "mlflow.set_experiment(experiment_name=\"nyc-taxi-experiment\")\n",
    "\n",
    "mlflow.sklearn.autolog()"
   ]
  },
  {
   "cell_type": "code",
   "execution_count": 9,
   "id": "0087148d",
   "metadata": {},
   "outputs": [],
   "source": [
    "sklearn_models = [\n",
    "  LinearRegression(), \n",
    "  Lasso(alpha=0.01, random_state=42),\n",
    "  DecisionTreeRegressor(max_depth=3, random_state=42),\n",
    "  RandomForestRegressor(n_estimators=5, max_depth=3, random_state=42)\n",
    "]\n",
    "\n",
    "runs: dict = []"
   ]
  },
  {
   "cell_type": "code",
   "execution_count": 10,
   "id": "af1e800a",
   "metadata": {},
   "outputs": [
    {
     "name": "stderr",
     "output_type": "stream",
     "text": [
      "  0%|          | 0/4 [00:00<?, ?it/s]2025/06/20 09:00:00 WARNING mlflow.sklearn: Failed to log training dataset information to MLflow Tracking. Reason: 'Series' object has no attribute 'flatten'\n",
      " 25%|██▌       | 1/4 [00:32<01:38, 32.71s/it]2025/06/20 09:00:30 WARNING mlflow.sklearn: Failed to log training dataset information to MLflow Tracking. Reason: 'Series' object has no attribute 'flatten'\n",
      " 50%|█████     | 2/4 [01:04<01:04, 32.21s/it]2025/06/20 09:01:02 WARNING mlflow.sklearn: Failed to log training dataset information to MLflow Tracking. Reason: 'Series' object has no attribute 'flatten'\n",
      " 75%|███████▌  | 3/4 [01:32<00:30, 30.29s/it]2025/06/20 09:01:29 WARNING mlflow.sklearn: Failed to log training dataset information to MLflow Tracking. Reason: 'Series' object has no attribute 'flatten'\n",
      "100%|██████████| 4/4 [02:00<00:00, 30.12s/it]\n"
     ]
    }
   ],
   "source": [
    "from tqdm import tqdm\n",
    "\n",
    "for model in tqdm(sklearn_models):\n",
    "  model_name = str(model)\n",
    "  model_name = model_name[:model_name.index(\"(\")]\n",
    "  with mlflow.start_run(run_name=model_name) as current_run:\n",
    "    lr = model.fit(X_train, y_train)\n",
    "    runs.append({\"id\": current_run.info.run_id, \"name\": current_run.info.run_name})  "
   ]
  },
  {
   "cell_type": "code",
   "execution_count": 11,
   "id": "fc94bce3",
   "metadata": {},
   "outputs": [
    {
     "name": "stdout",
     "output_type": "stream",
     "text": [
      "a8f3bd171b9545999c3900dfb2b3ea53: LinearRegression\n",
      "75604984f6b34d528b7220f1566ee5a6: Lasso\n",
      "6b507b9892a64d938bdd32dd5349ccd0: DecisionTreeRegressor\n",
      "7dcda490536c47509575fc052ccd4603: RandomForestRegressor\n"
     ]
    }
   ],
   "source": [
    "for run in runs:\n",
    "  print(f\"{run['id']}: {run['name']}\")"
   ]
  },
  {
   "cell_type": "markdown",
   "id": "4aba7a7d",
   "metadata": {},
   "source": [
    "### Discovering runs"
   ]
  },
  {
   "cell_type": "code",
   "execution_count": 12,
   "id": "e013df42",
   "metadata": {},
   "outputs": [],
   "source": [
    "retrieved_runs = client.search_runs(\n",
    "  experiment_ids=\"1\",\n",
    "  filter_string=\"\",\n",
    "  run_view_type=ViewType.ACTIVE_ONLY,\n",
    "  order_by=[\"metrics.training_root_mean_squared_error ASC\"]\n",
    ")\n",
    "\n",
    "assert len(retrieved_runs) == len(runs)\n",
    "for run in retrieved_runs:\n",
    "  assert run.info.run_id in list(map(lambda run: run[\"id\"], runs))"
   ]
  },
  {
   "cell_type": "code",
   "execution_count": 13,
   "id": "9fd7a0e1",
   "metadata": {},
   "outputs": [
    {
     "name": "stdout",
     "output_type": "stream",
     "text": [
      "LinearRegression: 5.6995641181989996\n",
      "RandomForestRegressor: 6.293870290580047\n",
      "DecisionTreeRegressor: 6.315541694545283\n",
      "Lasso: 10.550479041655857\n"
     ]
    }
   ],
   "source": [
    "for run in retrieved_runs:\n",
    "  print(f\"{run.info.run_name}: {run.data.metrics['training_root_mean_squared_error']}\")"
   ]
  },
  {
   "cell_type": "code",
   "execution_count": 14,
   "id": "32c4173f",
   "metadata": {},
   "outputs": [
    {
     "name": "stdout",
     "output_type": "stream",
     "text": [
      "LinearRegression: 5.6995641181989996\n",
      "RandomForestRegressor: 6.293870290580047\n",
      "DecisionTreeRegressor: 6.315541694545283\n"
     ]
    }
   ],
   "source": [
    "# get run by condition\n",
    "for run in client.search_runs(experiment_ids=\"1\", filter_string=\"metrics.training_root_mean_squared_error < 7\", order_by=[\"metrics.training_root_mean_squared_error ASC\"]):\n",
    "  print(f\"{run.info.run_name}: {run.data.metrics['training_root_mean_squared_error']}\")"
   ]
  },
  {
   "cell_type": "code",
   "execution_count": 23,
   "id": "abadddd0",
   "metadata": {},
   "outputs": [
    {
     "data": {
      "text/html": [
       "<div>\n",
       "<style scoped>\n",
       "    .dataframe tbody tr th:only-of-type {\n",
       "        vertical-align: middle;\n",
       "    }\n",
       "\n",
       "    .dataframe tbody tr th {\n",
       "        vertical-align: top;\n",
       "    }\n",
       "\n",
       "    .dataframe thead th {\n",
       "        text-align: right;\n",
       "    }\n",
       "</style>\n",
       "<table border=\"1\" class=\"dataframe\">\n",
       "  <thead>\n",
       "    <tr style=\"text-align: right;\">\n",
       "      <th></th>\n",
       "      <th>run_id</th>\n",
       "      <th>artifact_uri</th>\n",
       "      <th>metrics.training_root_mean_squared_error</th>\n",
       "    </tr>\n",
       "  </thead>\n",
       "  <tbody>\n",
       "    <tr>\n",
       "      <th>0</th>\n",
       "      <td>a8f3bd171b9545999c3900dfb2b3ea53</td>\n",
       "      <td>/Users/Kamal/WorkSpace/MLOps-zoomcamp/02. Expe...</td>\n",
       "      <td>5.699564</td>\n",
       "    </tr>\n",
       "    <tr>\n",
       "      <th>1</th>\n",
       "      <td>7dcda490536c47509575fc052ccd4603</td>\n",
       "      <td>/Users/Kamal/WorkSpace/MLOps-zoomcamp/02. Expe...</td>\n",
       "      <td>6.293870</td>\n",
       "    </tr>\n",
       "    <tr>\n",
       "      <th>2</th>\n",
       "      <td>6b507b9892a64d938bdd32dd5349ccd0</td>\n",
       "      <td>/Users/Kamal/WorkSpace/MLOps-zoomcamp/02. Expe...</td>\n",
       "      <td>6.315542</td>\n",
       "    </tr>\n",
       "  </tbody>\n",
       "</table>\n",
       "</div>"
      ],
      "text/plain": [
       "                             run_id  \\\n",
       "0  a8f3bd171b9545999c3900dfb2b3ea53   \n",
       "1  7dcda490536c47509575fc052ccd4603   \n",
       "2  6b507b9892a64d938bdd32dd5349ccd0   \n",
       "\n",
       "                                        artifact_uri  \\\n",
       "0  /Users/Kamal/WorkSpace/MLOps-zoomcamp/02. Expe...   \n",
       "1  /Users/Kamal/WorkSpace/MLOps-zoomcamp/02. Expe...   \n",
       "2  /Users/Kamal/WorkSpace/MLOps-zoomcamp/02. Expe...   \n",
       "\n",
       "   metrics.training_root_mean_squared_error  \n",
       "0                                  5.699564  \n",
       "1                                  6.293870  \n",
       "2                                  6.315542  "
      ]
     },
     "execution_count": 23,
     "metadata": {},
     "output_type": "execute_result"
    }
   ],
   "source": [
    "mlflow.search_runs(experiment_ids=\"1\", filter_string=\"metrics.training_root_mean_squared_error < 7\", order_by=[\"metrics.training_root_mean_squared_error ASC\"])[[\"run_id\", \"artifact_uri\", \"metrics.training_root_mean_squared_error\"]]"
   ]
  },
  {
   "cell_type": "markdown",
   "id": "3de99141",
   "metadata": {},
   "source": [
    "### Staging models\n",
    "\n",
    "After discovering the deciding the best models, now you can register some models to the model_registery.\n",
    "That's where the ML engineer or the deployment engineer testing models and choosing which model to deploy\n",
    "\n",
    "data scientest => work till ML models staging \\\n",
    "deployment engineer => work on the staging models and decides which to deploy"
   ]
  },
  {
   "cell_type": "code",
   "execution_count": 24,
   "id": "164fe79e",
   "metadata": {},
   "outputs": [],
   "source": [
    "REGISTERED_MODEL_NAME = \"nyc-taxi-model\""
   ]
  },
  {
   "cell_type": "markdown",
   "id": "7aeeb22b",
   "metadata": {},
   "source": [
    "#### Note\n",
    "\n",
    "There are 2 methods to create a containing registry model:\n",
    "1. using mlflow.register_model(mode_uri, containing_model_name) \\\n",
    "  This method will create the containing model if not exists\n",
    "2. using client.create_registered_mode(containing_model_name) \\\n",
    "   using client.create_model_version(containing_model_name, model_uri, version_tags, description) \\\n",
    "   This method gives more control over the creation and maintaining of the model and their versions"
   ]
  },
  {
   "cell_type": "code",
   "execution_count": 32,
   "id": "450396b5",
   "metadata": {},
   "outputs": [
    {
     "name": "stderr",
     "output_type": "stream",
     "text": [
      "2025/06/14 14:22:10 INFO mlflow.store.db.utils: Creating initial MLflow database tables...\n",
      "2025/06/14 14:22:10 INFO mlflow.store.db.utils: Updating database tables\n",
      "INFO  [alembic.runtime.migration] Context impl SQLiteImpl.\n",
      "INFO  [alembic.runtime.migration] Will assume non-transactional DDL.\n",
      "Successfully registered model 'nyc-taxi-model'.\n",
      "2025/06/14 14:22:10 WARNING mlflow.tracking._model_registry.fluent: Run with id 85aae2e0d958479ba524144afc5fc0b3 has no artifacts at artifact path 'model', registering model based on models:/m-71c170708850403d9e5fd0df7cb709b5 instead\n",
      "Created version '1' of model 'nyc-taxi-model'.\n"
     ]
    },
    {
     "data": {
      "text/plain": [
       "<ModelVersion: aliases=[], creation_timestamp=1749900130753, current_stage='None', deployment_job_state=None, description=None, last_updated_timestamp=1749900130753, metrics=None, model_id=None, name='nyc-taxi-model', params=None, run_id='85aae2e0d958479ba524144afc5fc0b3', run_link=None, source='models:/m-71c170708850403d9e5fd0df7cb709b5', status='READY', status_message=None, tags={}, user_id=None, version=1>"
      ]
     },
     "execution_count": 32,
     "metadata": {},
     "output_type": "execute_result"
    }
   ],
   "source": [
    "mlflow.register_model(model_uri=\"runs:/85aae2e0d958479ba524144afc5fc0b3/model\", name=REGISTERED_MODEL_NAME)"
   ]
  },
  {
   "cell_type": "code",
   "execution_count": 25,
   "id": "7b932bc3",
   "metadata": {},
   "outputs": [
    {
     "name": "stderr",
     "output_type": "stream",
     "text": [
      "2025/06/20 09:06:20 INFO mlflow.store.db.utils: Creating initial MLflow database tables...\n",
      "2025/06/20 09:06:20 INFO mlflow.store.db.utils: Updating database tables\n",
      "INFO  [alembic.runtime.migration] Context impl SQLiteImpl.\n",
      "INFO  [alembic.runtime.migration] Will assume non-transactional DDL.\n"
     ]
    },
    {
     "data": {
      "text/plain": [
       "<RegisteredModel: aliases={}, creation_timestamp=1750399580880, deployment_job_id=None, deployment_job_state=None, description='created at 2025-06-20', last_updated_timestamp=1750399580880, latest_versions=[], name='nyc-taxi-model', tags={'creator': 'kamal', 'problem': 'nyc-taxi'}>"
      ]
     },
     "execution_count": 25,
     "metadata": {},
     "output_type": "execute_result"
    }
   ],
   "source": [
    "from datetime import date\n",
    "\n",
    "client.create_registered_model(\n",
    "  name=REGISTERED_MODEL_NAME,\n",
    "  tags={\n",
    "    \"creator\": \"kamal\",\n",
    "    \"problem\": \"nyc-taxi\",\n",
    "  },\n",
    "  description=f\"created at {date.today()}\"\n",
    ")"
   ]
  },
  {
   "cell_type": "code",
   "execution_count": 26,
   "id": "86309c63",
   "metadata": {},
   "outputs": [
    {
     "name": "stdout",
     "output_type": "stream",
     "text": [
      "version:4, URI: runs:/75604984f6b34d528b7220f1566ee5a6/model\n",
      "version:3, URI: runs:/6b507b9892a64d938bdd32dd5349ccd0/model\n",
      "version:2, URI: runs:/7dcda490536c47509575fc052ccd4603/model\n",
      "version:1, URI: runs:/a8f3bd171b9545999c3900dfb2b3ea53/model\n"
     ]
    }
   ],
   "source": [
    "for run in retrieved_runs:\n",
    "  client.create_model_version(\n",
    "    name = REGISTERED_MODEL_NAME,\n",
    "    source=f\"runs:/{run.info.run_id}/model\",\n",
    "    tags={\"name\": f\"{run.info.run_name}\"},\n",
    "    description=f\"Moved to registry on {date.today()}\"\n",
    "  )\n",
    "  \n",
    "for version in client.search_model_versions(filter_string=f\"name = '{REGISTERED_MODEL_NAME}'\"):\n",
    "  print(f\"version:{version.version}, URI: {client.get_model_version_download_uri(name=REGISTERED_MODEL_NAME, version=version.version)}\")"
   ]
  },
  {
   "cell_type": "code",
   "execution_count": 27,
   "id": "fa427132",
   "metadata": {},
   "outputs": [],
   "source": [
    "client.set_registered_model_alias(REGISTERED_MODEL_NAME, \"waiting-release\", \"4\")"
   ]
  },
  {
   "cell_type": "markdown",
   "id": "e3fb13a4",
   "metadata": {},
   "source": [
    "### ML engineer testing the models to promote good ones"
   ]
  },
  {
   "cell_type": "code",
   "execution_count": 28,
   "id": "ca549d3c",
   "metadata": {},
   "outputs": [],
   "source": [
    "df_test = read_dataframe(test_data)\n",
    "\n",
    "X_test = dv.transform(df_test[features].to_dict(orient=\"records\"))\n",
    "y_test = df_test[target]"
   ]
  },
  {
   "cell_type": "code",
   "execution_count": 29,
   "id": "7a5c9943",
   "metadata": {},
   "outputs": [
    {
     "data": {
      "text/plain": [
       "'runs:/a8f3bd171b9545999c3900dfb2b3ea53/model'"
      ]
     },
     "execution_count": 29,
     "metadata": {},
     "output_type": "execute_result"
    }
   ],
   "source": [
    "client.get_model_version_download_uri(REGISTERED_MODEL_NAME, \"1\")"
   ]
  },
  {
   "cell_type": "code",
   "execution_count": 31,
   "id": "e3bbdaf0",
   "metadata": {},
   "outputs": [
    {
     "data": {
      "application/vnd.jupyter.widget-view+json": {
       "model_id": "50df88f587ab4960b6ec557ab7494e47",
       "version_major": 2,
       "version_minor": 0
      },
      "text/plain": [
       "Downloading artifacts:   0%|          | 0/1 [00:00<?, ?it/s]"
      ]
     },
     "metadata": {},
     "output_type": "display_data"
    },
    {
     "data": {
      "application/vnd.jupyter.widget-view+json": {
       "model_id": "5364c60abecc41eb8a58a885860c7948",
       "version_major": 2,
       "version_minor": 0
      },
      "text/plain": [
       "Downloading artifacts:   0%|          | 0/5 [00:00<?, ?it/s]"
      ]
     },
     "metadata": {},
     "output_type": "display_data"
    },
    {
     "data": {
      "application/vnd.jupyter.widget-view+json": {
       "model_id": "0afe206b574745509b70e91ac98b61db",
       "version_major": 2,
       "version_minor": 0
      },
      "text/plain": [
       "Downloading artifacts:   0%|          | 0/1 [00:00<?, ?it/s]"
      ]
     },
     "metadata": {},
     "output_type": "display_data"
    },
    {
     "data": {
      "application/vnd.jupyter.widget-view+json": {
       "model_id": "ce2100205dc444a2954336f958001bde",
       "version_major": 2,
       "version_minor": 0
      },
      "text/plain": [
       "Downloading artifacts:   0%|          | 0/5 [00:00<?, ?it/s]"
      ]
     },
     "metadata": {},
     "output_type": "display_data"
    },
    {
     "data": {
      "application/vnd.jupyter.widget-view+json": {
       "model_id": "07695fee393f4456bc1e5b10a386cbaa",
       "version_major": 2,
       "version_minor": 0
      },
      "text/plain": [
       "Downloading artifacts:   0%|          | 0/1 [00:00<?, ?it/s]"
      ]
     },
     "metadata": {},
     "output_type": "display_data"
    },
    {
     "data": {
      "application/vnd.jupyter.widget-view+json": {
       "model_id": "2b103eee05e745799e6d3ec1a5c5fe8f",
       "version_major": 2,
       "version_minor": 0
      },
      "text/plain": [
       "Downloading artifacts:   0%|          | 0/5 [00:00<?, ?it/s]"
      ]
     },
     "metadata": {},
     "output_type": "display_data"
    },
    {
     "data": {
      "application/vnd.jupyter.widget-view+json": {
       "model_id": "be95bfe612aa4a388180cf78c4808ab6",
       "version_major": 2,
       "version_minor": 0
      },
      "text/plain": [
       "Downloading artifacts:   0%|          | 0/1 [00:00<?, ?it/s]"
      ]
     },
     "metadata": {},
     "output_type": "display_data"
    },
    {
     "data": {
      "application/vnd.jupyter.widget-view+json": {
       "model_id": "38785457f30646f88d208c1072be1d98",
       "version_major": 2,
       "version_minor": 0
      },
      "text/plain": [
       "Downloading artifacts:   0%|          | 0/5 [00:00<?, ?it/s]"
      ]
     },
     "metadata": {},
     "output_type": "display_data"
    }
   ],
   "source": [
    "import mlflow.sklearn\n",
    "\n",
    "testing_results = {}\n",
    "for version in client.search_model_versions(filter_string=f\"name = '{REGISTERED_MODEL_NAME}'\"): \n",
    "  model_uri = client.get_model_version_download_uri(REGISTERED_MODEL_NAME, version.version)\n",
    "  model = mlflow.sklearn.load_model(model_uri)\n",
    "  y_test_pred = model.predict(X_test)\n",
    "\n",
    "  testing_results[version.version] = root_mean_squared_error(y_test, y_test_pred)"
   ]
  },
  {
   "cell_type": "code",
   "execution_count": 32,
   "id": "17274cdd",
   "metadata": {},
   "outputs": [
    {
     "name": "stdout",
     "output_type": "stream",
     "text": [
      "version: 2: 7.0707\n",
      "version: 3: 7.0890\n",
      "version: 1: 7.7587\n",
      "version: 4: 11.1673\n"
     ]
    }
   ],
   "source": [
    "for res in sorted(testing_results.items(), key=lambda item: item[1]):\n",
    "  print(f\"version: {res[0]}: {res[1]:.04f}\")"
   ]
  },
  {
   "cell_type": "code",
   "execution_count": 35,
   "id": "e9aa548b",
   "metadata": {},
   "outputs": [
    {
     "name": "stdout",
     "output_type": "stream",
     "text": [
      "2: deployment\n",
      "4: waiting-release\n"
     ]
    }
   ],
   "source": [
    "# According to the results, we can inspect that version 2 is the best model so far\n",
    "for alias, model_version in client.get_registered_model(name = REGISTERED_MODEL_NAME).aliases.items():\n",
    "  print(f\"{model_version}: {alias}\")"
   ]
  },
  {
   "cell_type": "code",
   "execution_count": 34,
   "id": "91febad5",
   "metadata": {},
   "outputs": [],
   "source": [
    "# now update the best model to set in production\n",
    "client.delete_registered_model_alias(name=REGISTERED_MODEL_NAME, alias=\"rejected_need-refinement\")\n",
    "client.set_registered_model_alias(REGISTERED_MODEL_NAME, \"deployment\", \"2\")"
   ]
  },
  {
   "cell_type": "code",
   "execution_count": null,
   "id": "bf575b0a",
   "metadata": {},
   "outputs": [],
   "source": []
  }
 ],
 "metadata": {
  "kernelspec": {
   "display_name": "MLOps-zoomcamp-SN1OqVDr",
   "language": "python",
   "name": "python3"
  },
  "language_info": {
   "codemirror_mode": {
    "name": "ipython",
    "version": 3
   },
   "file_extension": ".py",
   "mimetype": "text/x-python",
   "name": "python",
   "nbconvert_exporter": "python",
   "pygments_lexer": "ipython3",
   "version": "3.13.0"
  }
 },
 "nbformat": 4,
 "nbformat_minor": 5
}
