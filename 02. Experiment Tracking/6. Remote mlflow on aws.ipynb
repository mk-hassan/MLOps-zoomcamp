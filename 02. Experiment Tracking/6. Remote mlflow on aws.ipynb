{
 "cells": [
  {
   "cell_type": "markdown",
   "id": "8d495c5b",
   "metadata": {},
   "source": [
    "# Discovering MlflowClient API \n",
    "\n",
    "- Create experiment\n",
    "- List experiments\n",
    "- Discovering experiment runs\n",
    "- Manipulating runs info and data\n",
    "- Model register\n",
    "- Model versioning\n",
    "- Testing models as a deployment engineer \n",
    "- Modify model alieses "
   ]
  },
  {
   "cell_type": "code",
   "execution_count": 1,
   "id": "70cc72ab",
   "metadata": {},
   "outputs": [
    {
     "name": "stdout",
     "output_type": "stream",
     "text": [
      "['mlflow-store-rem']\n"
     ]
    }
   ],
   "source": [
    "import boto3\n",
    "\n",
    "s3 = boto3.client(\"s3\")\n",
    "buckets = s3.list_buckets()\n",
    "print([bucket[\"Name\"] for bucket in buckets[\"Buckets\"]])"
   ]
  },
  {
   "cell_type": "code",
   "execution_count": 1,
   "id": "de5a91c2",
   "metadata": {},
   "outputs": [],
   "source": [
    "import os\n",
    "\n",
    "os.environ[\"AWS_PROFILE\"] = \"default\""
   ]
  },
  {
   "cell_type": "code",
   "execution_count": 2,
   "id": "a7caab52",
   "metadata": {},
   "outputs": [],
   "source": [
    "from mlflow.tracking import MlflowClient\n",
    "from mlflow.entities import ViewType\n",
    "\n",
    "TRACKING_SERVER_HOST = \"ec2-16-170-240-86.eu-north-1.compute.amazonaws.com\"\n",
    "MLFLOW_PORT = 5000\n",
    "TRACKING_URI = f\"http://{TRACKING_SERVER_HOST}:{MLFLOW_PORT}\"\n",
    "\n",
    "client = MlflowClient(tracking_uri=f\"{TRACKING_URI}\")"
   ]
  },
  {
   "cell_type": "markdown",
   "id": "5f42caa8",
   "metadata": {},
   "source": [
    "### Experiments"
   ]
  },
  {
   "cell_type": "code",
   "execution_count": 3,
   "id": "6cafd629",
   "metadata": {},
   "outputs": [
    {
     "data": {
      "text/plain": [
       "[<Experiment: artifact_location='s3://mlflow-store-rem/17', creation_time=1750563684003, experiment_id='17', last_update_time=1750563684003, lifecycle_stage='active', name='nyc-taxi-experiment-aws13', tags={'data': 'nyc-taxi', 'developer': 'kamal'}>,\n",
       " <Experiment: artifact_location='s2://mlflow-store-rem/0', creation_time=1750495005398, experiment_id='0', last_update_time=1750495005398, lifecycle_stage='active', name='Default', tags={}>]"
      ]
     },
     "execution_count": 3,
     "metadata": {},
     "output_type": "execute_result"
    }
   ],
   "source": [
    "client.search_experiments()"
   ]
  },
  {
   "cell_type": "code",
   "execution_count": 22,
   "id": "f04a8a9b",
   "metadata": {},
   "outputs": [],
   "source": [
    "EXPERIMENT_NAME = \"nyc-taxi-experiment-aws-2\""
   ]
  },
  {
   "cell_type": "code",
   "execution_count": 23,
   "id": "123db5df",
   "metadata": {},
   "outputs": [],
   "source": [
    "experiment_tags = {\n",
    "  \"developer\": \"kamal\",\n",
    "  \"data\": \"nyc-taxi\"\n",
    "}\n",
    "\n",
    "# created new experiment\n",
    "# articat location parameter if None defaults to \"mlfurn/{experiment_id}\"\n",
    "experiment_id = client.create_experiment(EXPERIMENT_NAME, tags=experiment_tags)"
   ]
  },
  {
   "cell_type": "code",
   "execution_count": 24,
   "id": "1e510c52",
   "metadata": {},
   "outputs": [
    {
     "name": "stdout",
     "output_type": "stream",
     "text": [
      "There exist 4 experiments\n",
      "0: Default\n",
      "17: nyc-taxi-experiment-aws13\n",
      "\tdeveloper: kamal\n",
      "\tdata: nyc-taxi\n",
      "18: nyc-taxi-experiment-aws-1\n",
      "\tdeveloper: kamal\n",
      "\tdata: nyc-taxi\n",
      "19: nyc-taxi-experiment-aws-2\n",
      "\tdeveloper: kamal\n",
      "\tdata: nyc-taxi\n"
     ]
    }
   ],
   "source": [
    "# dicovering existing experiment\n",
    "existing_experiments = client.search_experiments()\n",
    "\n",
    "print(f\"There exist {len(existing_experiments)} experiments\")\n",
    "for exp in sorted(existing_experiments, key=lambda exp: exp.experiment_id):\n",
    "  print(f\"{exp.experiment_id}: {exp.name}\")\n",
    "  for key, value in exp.tags.items():\n",
    "    print(f\"\\t{key}: {value}\")"
   ]
  },
  {
   "cell_type": "markdown",
   "id": "fac439ee",
   "metadata": {},
   "source": [
    "### Creating some Runs"
   ]
  },
  {
   "cell_type": "code",
   "execution_count": 7,
   "id": "c92e93c2",
   "metadata": {},
   "outputs": [],
   "source": [
    "import xgboost as xgb\n",
    "from sklearn.metrics import root_mean_squared_error\n",
    "from sklearn.linear_model import LinearRegression, Lasso\n",
    "from sklearn.ensemble import RandomForestRegressor\n",
    "from sklearn.tree import DecisionTreeRegressor\n",
    "from sklearn.feature_extraction import DictVectorizer\n",
    "\n",
    "from data_loader import read_dataframe"
   ]
  },
  {
   "cell_type": "code",
   "execution_count": 8,
   "id": "2ce59961",
   "metadata": {},
   "outputs": [],
   "source": [
    "training_data = [\"../data/green_tripdata_2021-01.parquet\"]\n",
    "validation_data = [\"../data/green_tripdata_2021-03.parquet\"]\n",
    "test_data = [\"../data/green_tripdata_2021-02.parquet\"]"
   ]
  },
  {
   "cell_type": "code",
   "execution_count": 9,
   "id": "d2af75bf",
   "metadata": {},
   "outputs": [
    {
     "data": {
      "text/plain": [
       "((73908, 3), (80372, 3))"
      ]
     },
     "execution_count": 9,
     "metadata": {},
     "output_type": "execute_result"
    }
   ],
   "source": [
    "df_train = read_dataframe(*training_data)\n",
    "df_validation = read_dataframe(*validation_data)\n",
    "\n",
    "df_train.shape, df_validation.shape"
   ]
  },
  {
   "cell_type": "code",
   "execution_count": 10,
   "id": "a1acc85c",
   "metadata": {},
   "outputs": [],
   "source": [
    "features = ['PU_DO', 'trip_distance']\n",
    "target = 'duration'\n",
    "\n",
    "dv = DictVectorizer()\n",
    "\n",
    "X_train = dv.fit_transform(df_train[features].to_dict(orient=\"records\"))\n",
    "X_validation = dv.transform(df_validation[features].to_dict(orient=\"records\"))\n",
    "\n",
    "y_train = df_train[target]\n",
    "y_validation = df_validation[target]"
   ]
  },
  {
   "cell_type": "code",
   "execution_count": 26,
   "id": "83d741be",
   "metadata": {},
   "outputs": [],
   "source": [
    "import mlflow\n",
    "import mlflow.sklearn\n",
    "\n",
    "mlflow.set_tracking_uri(f\"{TRACKING_URI}\")\n",
    "# This method should create the experiment if not exists\n",
    "# But I created the experiment with same name on the prev step so mlflow will just use it\n",
    "mlflow.set_experiment(experiment_name=EXPERIMENT_NAME)\n",
    "\n",
    "mlflow.sklearn.autolog()"
   ]
  },
  {
   "cell_type": "code",
   "execution_count": 27,
   "id": "0eb256b3",
   "metadata": {},
   "outputs": [
    {
     "data": {
      "text/plain": [
       "'http://ec2-16-170-240-86.eu-north-1.compute.amazonaws.com:5000'"
      ]
     },
     "execution_count": 27,
     "metadata": {},
     "output_type": "execute_result"
    }
   ],
   "source": [
    "mlflow.get_tracking_uri()"
   ]
  },
  {
   "cell_type": "code",
   "execution_count": 28,
   "id": "0087148d",
   "metadata": {},
   "outputs": [],
   "source": [
    "sklearn_models = [\n",
    "  LinearRegression(), \n",
    "  Lasso(alpha=0.01, random_state=42),\n",
    "  DecisionTreeRegressor(max_depth=3, random_state=42),\n",
    "  RandomForestRegressor(n_estimators=5, max_depth=3, random_state=42)\n",
    "]\n",
    "\n",
    "runs: dict = []"
   ]
  },
  {
   "cell_type": "code",
   "execution_count": 29,
   "id": "af1e800a",
   "metadata": {},
   "outputs": [
    {
     "name": "stderr",
     "output_type": "stream",
     "text": [
      "  0%|          | 0/4 [00:00<?, ?it/s]2025/06/22 06:59:54 WARNING mlflow.sklearn: Failed to log training dataset information to MLflow Tracking. Reason: 'Series' object has no attribute 'flatten'\n",
      " 25%|██▌       | 1/4 [00:33<01:41, 33.92s/it]"
     ]
    },
    {
     "name": "stdout",
     "output_type": "stream",
     "text": [
      "🏃 View run LinearRegression at: http://ec2-16-170-240-86.eu-north-1.compute.amazonaws.com:5000/#/experiments/19/runs/d21d0ae1d55d45cc935cdae695cc9269\n",
      "🧪 View experiment at: http://ec2-16-170-240-86.eu-north-1.compute.amazonaws.com:5000/#/experiments/19\n"
     ]
    },
    {
     "name": "stderr",
     "output_type": "stream",
     "text": [
      "2025/06/22 07:00:27 WARNING mlflow.sklearn: Failed to log training dataset information to MLflow Tracking. Reason: 'Series' object has no attribute 'flatten'\n",
      " 50%|█████     | 2/4 [01:08<01:08, 34.10s/it]"
     ]
    },
    {
     "name": "stdout",
     "output_type": "stream",
     "text": [
      "🏃 View run Lasso at: http://ec2-16-170-240-86.eu-north-1.compute.amazonaws.com:5000/#/experiments/19/runs/ac1a5ce4dbf245da80b28d3f8718f06e\n",
      "🧪 View experiment at: http://ec2-16-170-240-86.eu-north-1.compute.amazonaws.com:5000/#/experiments/19\n"
     ]
    },
    {
     "name": "stderr",
     "output_type": "stream",
     "text": [
      "2025/06/22 07:01:02 WARNING mlflow.sklearn: Failed to log training dataset information to MLflow Tracking. Reason: 'Series' object has no attribute 'flatten'\n"
     ]
    },
    {
     "name": "stdout",
     "output_type": "stream",
     "text": [
      "🏃 View run DecisionTreeRegressor at: http://ec2-16-170-240-86.eu-north-1.compute.amazonaws.com:5000/#/experiments/19/runs/137dcf565ee14464b4f4de79c0a6697a\n",
      "🧪 View experiment at: http://ec2-16-170-240-86.eu-north-1.compute.amazonaws.com:5000/#/experiments/19\n"
     ]
    },
    {
     "name": "stderr",
     "output_type": "stream",
     "text": [
      " 75%|███████▌  | 3/4 [01:42<00:34, 34.06s/it]2025/06/22 07:01:35 WARNING mlflow.sklearn: Failed to log training dataset information to MLflow Tracking. Reason: 'Series' object has no attribute 'flatten'\n"
     ]
    },
    {
     "name": "stdout",
     "output_type": "stream",
     "text": [
      "🏃 View run RandomForestRegressor at: http://ec2-16-170-240-86.eu-north-1.compute.amazonaws.com:5000/#/experiments/19/runs/65233a1ad1f2448ea5cdfdf1bb6cf118\n",
      "🧪 View experiment at: http://ec2-16-170-240-86.eu-north-1.compute.amazonaws.com:5000/#/experiments/19\n"
     ]
    },
    {
     "name": "stderr",
     "output_type": "stream",
     "text": [
      "100%|██████████| 4/4 [02:15<00:00, 33.92s/it]\n"
     ]
    }
   ],
   "source": [
    "from tqdm import tqdm\n",
    "\n",
    "for model in tqdm(sklearn_models):\n",
    "  model_name = str(model)\n",
    "  model_name = model_name[:model_name.index(\"(\")]\n",
    "  with mlflow.start_run(run_name=model_name) as current_run:\n",
    "    lr = model.fit(X_train, y_train)\n",
    "    runs.append({\"id\": current_run.info.run_id, \"name\": current_run.info.run_name})  "
   ]
  },
  {
   "cell_type": "code",
   "execution_count": 30,
   "id": "070894aa",
   "metadata": {},
   "outputs": [
    {
     "name": "stdout",
     "output_type": "stream",
     "text": [
      "d21d0ae1d55d45cc935cdae695cc9269: LinearRegression\n",
      "ac1a5ce4dbf245da80b28d3f8718f06e: Lasso\n",
      "137dcf565ee14464b4f4de79c0a6697a: DecisionTreeRegressor\n",
      "65233a1ad1f2448ea5cdfdf1bb6cf118: RandomForestRegressor\n"
     ]
    }
   ],
   "source": [
    "for run in runs:\n",
    "  print(f\"{run['id']}: {run['name']}\")"
   ]
  },
  {
   "cell_type": "markdown",
   "id": "4aba7a7d",
   "metadata": {},
   "source": [
    "### Discovering runs"
   ]
  },
  {
   "cell_type": "code",
   "execution_count": 31,
   "id": "e013df42",
   "metadata": {},
   "outputs": [],
   "source": [
    "retrieved_runs = client.search_runs(\n",
    "  experiment_ids=experiment_id,\n",
    "  filter_string=\"\",\n",
    "  run_view_type=ViewType.ACTIVE_ONLY,\n",
    "  order_by=[\"metrics.training_root_mean_squared_error ASC\"]\n",
    ")\n",
    "\n",
    "assert len(retrieved_runs) == len(runs)\n",
    "for run in retrieved_runs:\n",
    "  assert run.info.run_id in list(map(lambda run: run[\"id\"], runs))"
   ]
  },
  {
   "cell_type": "code",
   "execution_count": 37,
   "id": "9fd7a0e1",
   "metadata": {},
   "outputs": [
    {
     "name": "stdout",
     "output_type": "stream",
     "text": [
      "LinearRegression: 5.6995641181989996\n",
      "RandomForestRegressor: 6.293870290580047\n",
      "DecisionTreeRegressor: 6.315541694545283\n",
      "Lasso: 10.550479041655857\n"
     ]
    }
   ],
   "source": [
    "for run in retrieved_runs:\n",
    "  print(f\"{run.info.run_name}: {run.data.metrics['training_root_mean_squared_error']}\")"
   ]
  },
  {
   "cell_type": "code",
   "execution_count": 38,
   "id": "32c4173f",
   "metadata": {},
   "outputs": [
    {
     "name": "stdout",
     "output_type": "stream",
     "text": [
      "LinearRegression: 5.6995641181989996\n",
      "RandomForestRegressor: 6.293870290580047\n",
      "DecisionTreeRegressor: 6.315541694545283\n"
     ]
    }
   ],
   "source": [
    "# get run by condition\n",
    "for run in client.search_runs(experiment_ids=experiment_id, filter_string=\"metrics.training_root_mean_squared_error < 7\", order_by=[\"metrics.training_root_mean_squared_error ASC\"]):\n",
    "  print(f\"{run.info.run_name}: {run.data.metrics['training_root_mean_squared_error']}\")"
   ]
  },
  {
   "cell_type": "code",
   "execution_count": 39,
   "id": "abadddd0",
   "metadata": {},
   "outputs": [
    {
     "data": {
      "text/html": [
       "<div>\n",
       "<style scoped>\n",
       "    .dataframe tbody tr th:only-of-type {\n",
       "        vertical-align: middle;\n",
       "    }\n",
       "\n",
       "    .dataframe tbody tr th {\n",
       "        vertical-align: top;\n",
       "    }\n",
       "\n",
       "    .dataframe thead th {\n",
       "        text-align: right;\n",
       "    }\n",
       "</style>\n",
       "<table border=\"1\" class=\"dataframe\">\n",
       "  <thead>\n",
       "    <tr style=\"text-align: right;\">\n",
       "      <th></th>\n",
       "      <th>run_id</th>\n",
       "      <th>artifact_uri</th>\n",
       "      <th>metrics.training_root_mean_squared_error</th>\n",
       "    </tr>\n",
       "  </thead>\n",
       "  <tbody>\n",
       "    <tr>\n",
       "      <th>0</th>\n",
       "      <td>d21d0ae1d55d45cc935cdae695cc9269</td>\n",
       "      <td>s3://mlflow-store-rem/19/d21d0ae1d55d45cc935cd...</td>\n",
       "      <td>5.699564</td>\n",
       "    </tr>\n",
       "    <tr>\n",
       "      <th>1</th>\n",
       "      <td>65233a1ad1f2448ea5cdfdf1bb6cf118</td>\n",
       "      <td>s3://mlflow-store-rem/19/65233a1ad1f2448ea5cdf...</td>\n",
       "      <td>6.293870</td>\n",
       "    </tr>\n",
       "    <tr>\n",
       "      <th>2</th>\n",
       "      <td>137dcf565ee14464b4f4de79c0a6697a</td>\n",
       "      <td>s3://mlflow-store-rem/19/137dcf565ee14464b4f4d...</td>\n",
       "      <td>6.315542</td>\n",
       "    </tr>\n",
       "  </tbody>\n",
       "</table>\n",
       "</div>"
      ],
      "text/plain": [
       "                             run_id  \\\n",
       "0  d21d0ae1d55d45cc935cdae695cc9269   \n",
       "1  65233a1ad1f2448ea5cdfdf1bb6cf118   \n",
       "2  137dcf565ee14464b4f4de79c0a6697a   \n",
       "\n",
       "                                        artifact_uri  \\\n",
       "0  s3://mlflow-store-rem/19/d21d0ae1d55d45cc935cd...   \n",
       "1  s3://mlflow-store-rem/19/65233a1ad1f2448ea5cdf...   \n",
       "2  s3://mlflow-store-rem/19/137dcf565ee14464b4f4d...   \n",
       "\n",
       "   metrics.training_root_mean_squared_error  \n",
       "0                                  5.699564  \n",
       "1                                  6.293870  \n",
       "2                                  6.315542  "
      ]
     },
     "execution_count": 39,
     "metadata": {},
     "output_type": "execute_result"
    }
   ],
   "source": [
    "mlflow.search_runs(experiment_ids=experiment_id, filter_string=\"metrics.training_root_mean_squared_error < 7\", order_by=[\"metrics.training_root_mean_squared_error ASC\"])[[\"run_id\", \"artifact_uri\", \"metrics.training_root_mean_squared_error\"]]"
   ]
  },
  {
   "cell_type": "markdown",
   "id": "3de99141",
   "metadata": {},
   "source": [
    "### Staging models\n",
    "\n",
    "After discovering the deciding the best models, now you can register some models to the model_registery.\n",
    "That's where the ML engineer or the deployment engineer testing models and choosing which model to deploy\n",
    "\n",
    "data scientest => work till ML models staging \\\n",
    "deployment engineer => work on the staging models and decides which to deploy"
   ]
  },
  {
   "cell_type": "code",
   "execution_count": 40,
   "id": "164fe79e",
   "metadata": {},
   "outputs": [],
   "source": [
    "REGISTERED_MODEL_NAME = \"nyc-taxi-model\""
   ]
  },
  {
   "cell_type": "markdown",
   "id": "7aeeb22b",
   "metadata": {},
   "source": [
    "#### Note\n",
    "\n",
    "There are 2 methods to create a containing registry model:\n",
    "1. using mlflow.register_model(mode_uri, containing_model_name) \\\n",
    "  This method will create the containing model if not exists\n",
    "2. using client.create_registered_mode(containing_model_name) \\\n",
    "   using client.create_model_version(containing_model_name, model_uri, version_tags, description) \\\n",
    "   This method gives more control over the creation and maintaining of the model and their versions"
   ]
  },
  {
   "cell_type": "code",
   "execution_count": 32,
   "id": "450396b5",
   "metadata": {},
   "outputs": [
    {
     "name": "stderr",
     "output_type": "stream",
     "text": [
      "2025/06/14 14:22:10 INFO mlflow.store.db.utils: Creating initial MLflow database tables...\n",
      "2025/06/14 14:22:10 INFO mlflow.store.db.utils: Updating database tables\n",
      "INFO  [alembic.runtime.migration] Context impl SQLiteImpl.\n",
      "INFO  [alembic.runtime.migration] Will assume non-transactional DDL.\n",
      "Successfully registered model 'nyc-taxi-model'.\n",
      "2025/06/14 14:22:10 WARNING mlflow.tracking._model_registry.fluent: Run with id 85aae2e0d958479ba524144afc5fc0b3 has no artifacts at artifact path 'model', registering model based on models:/m-71c170708850403d9e5fd0df7cb709b5 instead\n",
      "Created version '1' of model 'nyc-taxi-model'.\n"
     ]
    },
    {
     "data": {
      "text/plain": [
       "<ModelVersion: aliases=[], creation_timestamp=1749900130753, current_stage='None', deployment_job_state=None, description=None, last_updated_timestamp=1749900130753, metrics=None, model_id=None, name='nyc-taxi-model', params=None, run_id='85aae2e0d958479ba524144afc5fc0b3', run_link=None, source='models:/m-71c170708850403d9e5fd0df7cb709b5', status='READY', status_message=None, tags={}, user_id=None, version=1>"
      ]
     },
     "execution_count": 32,
     "metadata": {},
     "output_type": "execute_result"
    }
   ],
   "source": [
    "mlflow.register_model(model_uri=\"runs:/85aae2e0d958479ba524144afc5fc0b3/model\", name=REGISTERED_MODEL_NAME)"
   ]
  },
  {
   "cell_type": "code",
   "execution_count": 41,
   "id": "7b932bc3",
   "metadata": {},
   "outputs": [
    {
     "data": {
      "text/plain": [
       "<RegisteredModel: aliases={}, creation_timestamp=1750565152451, deployment_job_id='', deployment_job_state='DEPLOYMENT_JOB_CONNECTION_STATE_UNSPECIFIED', description='created at 2025-06-22', last_updated_timestamp=1750565152451, latest_versions=[], name='nyc-taxi-model', tags={'creator': 'kamal', 'problem': 'nyc-taxi'}>"
      ]
     },
     "execution_count": 41,
     "metadata": {},
     "output_type": "execute_result"
    }
   ],
   "source": [
    "from datetime import date\n",
    "\n",
    "client.create_registered_model(\n",
    "  name=REGISTERED_MODEL_NAME,\n",
    "  tags={\n",
    "    \"creator\": \"kamal\",\n",
    "    \"problem\": \"nyc-taxi\",\n",
    "  },\n",
    "  description=f\"created at {date.today()}\"\n",
    ")"
   ]
  },
  {
   "cell_type": "code",
   "execution_count": 42,
   "id": "86309c63",
   "metadata": {},
   "outputs": [
    {
     "name": "stderr",
     "output_type": "stream",
     "text": [
      "2025/06/22 07:06:07 INFO mlflow.store.model_registry.abstract_store: Waiting up to 300 seconds for model version to finish creation. Model name: nyc-taxi-model, version 1\n",
      "2025/06/22 07:06:08 INFO mlflow.store.model_registry.abstract_store: Waiting up to 300 seconds for model version to finish creation. Model name: nyc-taxi-model, version 2\n",
      "2025/06/22 07:06:08 INFO mlflow.store.model_registry.abstract_store: Waiting up to 300 seconds for model version to finish creation. Model name: nyc-taxi-model, version 3\n",
      "2025/06/22 07:06:08 INFO mlflow.store.model_registry.abstract_store: Waiting up to 300 seconds for model version to finish creation. Model name: nyc-taxi-model, version 4\n"
     ]
    },
    {
     "name": "stdout",
     "output_type": "stream",
     "text": [
      "version:4, URI: runs:/ac1a5ce4dbf245da80b28d3f8718f06e/model\n",
      "version:3, URI: runs:/137dcf565ee14464b4f4de79c0a6697a/model\n",
      "version:2, URI: runs:/65233a1ad1f2448ea5cdfdf1bb6cf118/model\n",
      "version:1, URI: runs:/d21d0ae1d55d45cc935cdae695cc9269/model\n"
     ]
    }
   ],
   "source": [
    "for run in retrieved_runs:\n",
    "  client.create_model_version(\n",
    "    name = REGISTERED_MODEL_NAME,\n",
    "    source=f\"runs:/{run.info.run_id}/model\",\n",
    "    tags={\"name\": f\"{run.info.run_name}\"},\n",
    "    description=f\"Moved to registry on {date.today()}\"\n",
    "  )\n",
    "  \n",
    "for version in client.search_model_versions(filter_string=f\"name = '{REGISTERED_MODEL_NAME}'\"):\n",
    "  print(f\"version:{version.version}, URI: {client.get_model_version_download_uri(name=REGISTERED_MODEL_NAME, version=version.version)}\")"
   ]
  },
  {
   "cell_type": "code",
   "execution_count": 43,
   "id": "fa427132",
   "metadata": {},
   "outputs": [],
   "source": [
    "client.set_registered_model_alias(REGISTERED_MODEL_NAME, \"waiting-release\", \"4\")"
   ]
  },
  {
   "cell_type": "markdown",
   "id": "e3fb13a4",
   "metadata": {},
   "source": [
    "### ML engineer testing the models to promote good ones"
   ]
  },
  {
   "cell_type": "code",
   "execution_count": 44,
   "id": "ca549d3c",
   "metadata": {},
   "outputs": [],
   "source": [
    "df_test = read_dataframe(test_data)\n",
    "\n",
    "X_test = dv.transform(df_test[features].to_dict(orient=\"records\"))\n",
    "y_test = df_test[target]"
   ]
  },
  {
   "cell_type": "code",
   "execution_count": 45,
   "id": "7a5c9943",
   "metadata": {},
   "outputs": [
    {
     "data": {
      "text/plain": [
       "'runs:/d21d0ae1d55d45cc935cdae695cc9269/model'"
      ]
     },
     "execution_count": 45,
     "metadata": {},
     "output_type": "execute_result"
    }
   ],
   "source": [
    "client.get_model_version_download_uri(REGISTERED_MODEL_NAME, \"1\")"
   ]
  },
  {
   "cell_type": "code",
   "execution_count": 46,
   "id": "e3bbdaf0",
   "metadata": {},
   "outputs": [
    {
     "data": {
      "application/vnd.jupyter.widget-view+json": {
       "model_id": "99fe822d376f43a886c6875bce828e1b",
       "version_major": 2,
       "version_minor": 0
      },
      "text/plain": [
       "Downloading artifacts:   0%|          | 0/1 [00:00<?, ?it/s]"
      ]
     },
     "metadata": {},
     "output_type": "display_data"
    },
    {
     "data": {
      "application/vnd.jupyter.widget-view+json": {
       "model_id": "dfb70070cd5746a1bffe76f76f130e33",
       "version_major": 2,
       "version_minor": 0
      },
      "text/plain": [
       "Downloading artifacts:   0%|          | 0/5 [00:00<?, ?it/s]"
      ]
     },
     "metadata": {},
     "output_type": "display_data"
    },
    {
     "data": {
      "application/vnd.jupyter.widget-view+json": {
       "model_id": "1a8984e7337d4205bedd36ee7c9c0c98",
       "version_major": 2,
       "version_minor": 0
      },
      "text/plain": [
       "Downloading artifacts:   0%|          | 0/1 [00:00<?, ?it/s]"
      ]
     },
     "metadata": {},
     "output_type": "display_data"
    },
    {
     "data": {
      "application/vnd.jupyter.widget-view+json": {
       "model_id": "d2980e1efee8461aa77689288732ed7a",
       "version_major": 2,
       "version_minor": 0
      },
      "text/plain": [
       "Downloading artifacts:   0%|          | 0/5 [00:00<?, ?it/s]"
      ]
     },
     "metadata": {},
     "output_type": "display_data"
    },
    {
     "data": {
      "application/vnd.jupyter.widget-view+json": {
       "model_id": "a61a298a3ab647529dcb50ab1ba7e1eb",
       "version_major": 2,
       "version_minor": 0
      },
      "text/plain": [
       "Downloading artifacts:   0%|          | 0/1 [00:00<?, ?it/s]"
      ]
     },
     "metadata": {},
     "output_type": "display_data"
    },
    {
     "data": {
      "application/vnd.jupyter.widget-view+json": {
       "model_id": "c039865a5a79407eaff3e14090961b9b",
       "version_major": 2,
       "version_minor": 0
      },
      "text/plain": [
       "Downloading artifacts:   0%|          | 0/5 [00:00<?, ?it/s]"
      ]
     },
     "metadata": {},
     "output_type": "display_data"
    },
    {
     "data": {
      "application/vnd.jupyter.widget-view+json": {
       "model_id": "3638a4f21d1e4a55b8def59347970319",
       "version_major": 2,
       "version_minor": 0
      },
      "text/plain": [
       "Downloading artifacts:   0%|          | 0/1 [00:00<?, ?it/s]"
      ]
     },
     "metadata": {},
     "output_type": "display_data"
    },
    {
     "data": {
      "application/vnd.jupyter.widget-view+json": {
       "model_id": "6e3d0d10f7ce4396951630cbb624c829",
       "version_major": 2,
       "version_minor": 0
      },
      "text/plain": [
       "Downloading artifacts:   0%|          | 0/5 [00:00<?, ?it/s]"
      ]
     },
     "metadata": {},
     "output_type": "display_data"
    }
   ],
   "source": [
    "import mlflow.sklearn\n",
    "\n",
    "testing_results = {}\n",
    "for version in client.search_model_versions(filter_string=f\"name = '{REGISTERED_MODEL_NAME}'\"): \n",
    "  model_uri = client.get_model_version_download_uri(REGISTERED_MODEL_NAME, version.version)\n",
    "  model = mlflow.sklearn.load_model(model_uri)\n",
    "  y_test_pred = model.predict(X_test)\n",
    "\n",
    "  testing_results[version.version] = root_mean_squared_error(y_test, y_test_pred)"
   ]
  },
  {
   "cell_type": "code",
   "execution_count": 47,
   "id": "17274cdd",
   "metadata": {},
   "outputs": [
    {
     "name": "stdout",
     "output_type": "stream",
     "text": [
      "version: 2: 7.0707\n",
      "version: 3: 7.0890\n",
      "version: 1: 7.7587\n",
      "version: 4: 11.1673\n"
     ]
    }
   ],
   "source": [
    "for res in sorted(testing_results.items(), key=lambda item: item[1]):\n",
    "  print(f\"version: {res[0]}: {res[1]:.04f}\")"
   ]
  },
  {
   "cell_type": "code",
   "execution_count": 48,
   "id": "e9aa548b",
   "metadata": {},
   "outputs": [
    {
     "name": "stdout",
     "output_type": "stream",
     "text": [
      "4: waiting-release\n"
     ]
    }
   ],
   "source": [
    "# According to the results, we can inspect that version 2 is the best model so far\n",
    "for alias, model_version in client.get_registered_model(name = REGISTERED_MODEL_NAME).aliases.items():\n",
    "  print(f\"{model_version}: {alias}\")"
   ]
  }
 ],
 "metadata": {
  "kernelspec": {
   "display_name": "MLOps-zoomcamp-SN1OqVDr",
   "language": "python",
   "name": "python3"
  },
  "language_info": {
   "codemirror_mode": {
    "name": "ipython",
    "version": 3
   },
   "file_extension": ".py",
   "mimetype": "text/x-python",
   "name": "python",
   "nbconvert_exporter": "python",
   "pygments_lexer": "ipython3",
   "version": "3.13.0"
  }
 },
 "nbformat": 4,
 "nbformat_minor": 5
}
