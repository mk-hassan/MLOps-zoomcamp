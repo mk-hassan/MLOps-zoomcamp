{
 "cells": [
  {
   "cell_type": "markdown",
   "id": "d8061c1d",
   "metadata": {},
   "source": [
    "# Objective\n",
    "\n",
    "Preaaring 5 different trained models to compare them and have experience with MLFlow registry"
   ]
  },
  {
   "cell_type": "code",
   "execution_count": 1,
   "id": "363b66be",
   "metadata": {},
   "outputs": [],
   "source": [
    "import mlflow\n",
    "\n",
    "import xgboost as xgb\n",
    "from sklearn.metrics import root_mean_squared_error\n",
    "from sklearn.linear_model import LinearRegression, Lasso\n",
    "from sklearn.ensemble import RandomForestRegressor\n",
    "from sklearn.tree import DecisionTreeRegressor"
   ]
  },
  {
   "cell_type": "code",
   "execution_count": 2,
   "id": "599e0fb1",
   "metadata": {},
   "outputs": [],
   "source": [
    "from data_loader import read_dataframe\n",
    "from data_loader import encode_data"
   ]
  },
  {
   "cell_type": "code",
   "execution_count": 3,
   "id": "3ab6bbaf",
   "metadata": {},
   "outputs": [],
   "source": [
    "features = ['PU_DO', 'trip_distance']\n",
    "target = 'duration'"
   ]
  },
  {
   "cell_type": "markdown",
   "id": "4d0674d7",
   "metadata": {},
   "source": [
    "## Preparing data"
   ]
  },
  {
   "cell_type": "code",
   "execution_count": 4,
   "id": "c9c3725f",
   "metadata": {},
   "outputs": [],
   "source": [
    "training_data = [\"../data/green_tripdata_2021-01.parquet\"]\n",
    "validation_data = [\"../data/green_tripdata_2021-03.parquet\"]\n",
    "test_data = [\"../data/green_tripdata_2021-04.parquet\"]"
   ]
  },
  {
   "cell_type": "code",
   "execution_count": 5,
   "id": "a6c51f8c",
   "metadata": {},
   "outputs": [
    {
     "data": {
      "text/plain": [
       "((73908, 3), (80372, 3))"
      ]
     },
     "execution_count": 5,
     "metadata": {},
     "output_type": "execute_result"
    }
   ],
   "source": [
    "df_train = read_dataframe(*training_data)\n",
    "df_validation = read_dataframe(*validation_data)\n",
    "\n",
    "df_train.shape, df_validation.shape"
   ]
  },
  {
   "cell_type": "code",
   "execution_count": 6,
   "id": "b90abdf3",
   "metadata": {},
   "outputs": [],
   "source": [
    "X_train, y_train, dv = encode_data(df_train, features, target)\n",
    "X_validation, y_validation = dv.transform(df_validation[features].to_dict(orient='records')), df_validation[target]"
   ]
  },
  {
   "cell_type": "markdown",
   "id": "6f7c0f93",
   "metadata": {},
   "source": [
    "## MLFlow + Training models"
   ]
  },
  {
   "cell_type": "code",
   "execution_count": 7,
   "id": "488f3bcd",
   "metadata": {},
   "outputs": [],
   "source": [
    "mlflow.set_tracking_uri(\"sqlite:///mlflow.db\")\n",
    "mlflow.set_experiment(\"mlflow_model_registry_practice_by_code\")\n",
    "\n",
    "mlflow.sklearn.autolog(log_datasets=False)\n",
    "mlflow.xgboost.autolog(log_datasets=False)"
   ]
  },
  {
   "cell_type": "code",
   "execution_count": 8,
   "id": "c29087a9",
   "metadata": {},
   "outputs": [],
   "source": [
    "sklearn_models = [\n",
    "  LinearRegression(), \n",
    "  Lasso(alpha=0.01, random_state=42),\n",
    "  DecisionTreeRegressor(max_depth=3, random_state=42),\n",
    "  RandomForestRegressor(n_estimators=5, max_depth=3, random_state=42)\n",
    "]"
   ]
  },
  {
   "cell_type": "code",
   "execution_count": 13,
   "id": "7ae4c091",
   "metadata": {},
   "outputs": [],
   "source": [
    "for model in sklearn_models:\n",
    "  model_name = str(model)\n",
    "  model_name = model_name[:model_name.index(\"(\")]\n",
    "  with mlflow.start_run(run_name=model_name):\n",
    "    trained_model = model.fit(X_train, y_train)\n",
    "    validation_rmse = root_mean_squared_error(y_true = y_validation, y_pred = trained_model.predict(X_validation))\n",
    "    mlflow.log_metric(\"rmse\", validation_rmse)"
   ]
  },
  {
   "cell_type": "code",
   "execution_count": null,
   "id": "01f2f5be",
   "metadata": {},
   "outputs": [],
   "source": [
    "boosting_hps = {\n",
    "  'learning_rate': 0.06795566766046571,\n",
    "  'max_depth': 74,\n",
    "  'min_child_weight': 1.1034760099449035,\n",
    "  'reg_alpha': 0.08418429054929681,\n",
    "  'reg_lambda': 0.007240669500118009,\n",
    "  'eval_metric': \"rmse\",\n",
    "  'objective': 'reg:squarederror',\n",
    "  'seed': 42\n",
    "}\n",
    "\n",
    "train = xgb.DMatrix(X_train, label=y_train)\n",
    "valid = xgb.DMatrix(X_validation, label=y_validation)"
   ]
  },
  {
   "cell_type": "code",
   "execution_count": 12,
   "id": "f0f187c4",
   "metadata": {},
   "outputs": [
    {
     "name": "stdout",
     "output_type": "stream",
     "text": [
      "[0]\tvalidation-rmse:11.69575\n",
      "[1]\tvalidation-rmse:11.18721\n",
      "[2]\tvalidation-rmse:10.72405\n",
      "[3]\tvalidation-rmse:10.30187\n",
      "[4]\tvalidation-rmse:9.91824\n",
      "[5]\tvalidation-rmse:9.56938\n",
      "[6]\tvalidation-rmse:9.25418\n",
      "[7]\tvalidation-rmse:8.96847\n",
      "[8]\tvalidation-rmse:8.70964\n",
      "[9]\tvalidation-rmse:8.47681\n"
     ]
    },
    {
     "name": "stderr",
     "output_type": "stream",
     "text": [
      "2025/06/12 22:49:47 WARNING mlflow.utils.autologging_utils: MLflow autologging encountered a warning: \"/home/codespace/anaconda3/envs/mlflow-tracking/lib/python3.9/site-packages/xgboost/core.py:158: UserWarning: [22:49:47] WARNING: /workspace/src/c_api/c_api.cc:1374: Saving model in the UBJSON format as default.  You can use file extension: `json`, `ubj` or `deprecated` to choose between formats.\"\n"
     ]
    }
   ],
   "source": [
    "with mlflow.start_run(run_name=\"XGBoost\"):\n",
    "  validation_rmses = {}\n",
    "  booster = xgb.train(\n",
    "    params=boosting_hps,\n",
    "    dtrain=train,\n",
    "    num_boost_round=10,\n",
    "    evals=[(valid, \"validation\")],\n",
    "    early_stopping_rounds=2,\n",
    "    evals_result=validation_rmses\n",
    "  )\n",
    "\n",
    "  mlflow.log_metric(\"rmse\", min(validation_rmses['validation']['rmse']))"
   ]
  }
 ],
 "metadata": {
  "kernelspec": {
   "display_name": "MLOps-zoomcamp-SN1OqVDr",
   "language": "python",
   "name": "python3"
  },
  "language_info": {
   "codemirror_mode": {
    "name": "ipython",
    "version": 3
   },
   "file_extension": ".py",
   "mimetype": "text/x-python",
   "name": "python",
   "nbconvert_exporter": "python",
   "pygments_lexer": "ipython3",
   "version": "3.13.0"
  }
 },
 "nbformat": 4,
 "nbformat_minor": 5
}
