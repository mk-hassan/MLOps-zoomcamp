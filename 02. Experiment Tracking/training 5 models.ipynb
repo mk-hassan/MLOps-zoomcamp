{
 "cells": [
  {
   "cell_type": "markdown",
   "id": "d8061c1d",
   "metadata": {},
   "source": [
    "# Objective\n",
    "\n",
    "Preaaring 5 different trained models to compare them and have experience with MLFlow registry"
   ]
  },
  {
   "cell_type": "code",
   "execution_count": null,
   "id": "363b66be",
   "metadata": {},
   "outputs": [],
   "source": [
    "import mlflow\n",
    "\n",
    "# import xgboost as xgb\n",
    "from sklearn.linear_model import LinearRegression, Lasso\n",
    "from sklearn.ensemble import RandomForestRegressor\n",
    "from sklearn.tree import DecisionTreeRegressor"
   ]
  },
  {
   "cell_type": "code",
   "execution_count": null,
   "id": "599e0fb1",
   "metadata": {},
   "outputs": [],
   "source": [
    "from data_loader import read_dataframe\n",
    "from data_loader import encode_data"
   ]
  },
  {
   "cell_type": "code",
   "execution_count": null,
   "id": "3ab6bbaf",
   "metadata": {},
   "outputs": [],
   "source": [
    "features = ['PU_DO', 'trip_distance']\n",
    "target = 'duration'"
   ]
  },
  {
   "cell_type": "markdown",
   "id": "4d0674d7",
   "metadata": {},
   "source": [
    "## Preparing data"
   ]
  },
  {
   "cell_type": "code",
   "execution_count": null,
   "id": "c9c3725f",
   "metadata": {},
   "outputs": [],
   "source": [
    "training_data = [\"../data/green_tripdata_2021-01.parquet\"]\n",
    "validation_data = [\"../data/green_tripdata_2021-03.parquet\"]\n",
    "test_data = [\"../data/green_tripdata_2021-04.parquet\"]"
   ]
  },
  {
   "cell_type": "code",
   "execution_count": null,
   "id": "a6c51f8c",
   "metadata": {},
   "outputs": [],
   "source": [
    "df_train = read_dataframe(*training_data)\n",
    "# df_validation = read_dataframe(*validation_data)\n",
    "\n",
    "# df_train.shape, df_validation.shape"
   ]
  },
  {
   "cell_type": "code",
   "execution_count": null,
   "id": "b90abdf3",
   "metadata": {},
   "outputs": [],
   "source": [
    "X_train, y_train, dv = encode_data(df_train, features, target)\n",
    "# X_validation, y_validation = dv.transform(df_validation[features].to_dict(orient='records')), df_validation[target]"
   ]
  },
  {
   "cell_type": "markdown",
   "id": "6f7c0f93",
   "metadata": {},
   "source": [
    "## MLFlow + Training models"
   ]
  },
  {
   "cell_type": "code",
   "execution_count": null,
   "id": "488f3bcd",
   "metadata": {},
   "outputs": [],
   "source": [
    "mlflow.set_tracking_uri(\"sqlite:///mlflow.db\")\n",
    "mlflow.set_experiment(\"mlflow_model_registry_practice\")\n",
    "\n",
    "mlflow.sklearn.autolog()\n",
    "# mlflow.xgboost.autolog()"
   ]
  },
  {
   "cell_type": "code",
   "execution_count": null,
   "id": "7ae4c091",
   "metadata": {},
   "outputs": [],
   "source": [
    "\n",
    "LinearRegression().fit(X_train, y_train)"
   ]
  },
  {
   "cell_type": "code",
   "execution_count": null,
   "id": "c96d5d16",
   "metadata": {},
   "outputs": [],
   "source": [
    "Lasso(alpha=0.01, random_state=42).fit(X_train, y_train)"
   ]
  },
  {
   "cell_type": "code",
   "execution_count": null,
   "id": "87064ed3",
   "metadata": {},
   "outputs": [],
   "source": [
    "DecisionTreeRegressor(max_depth=3, random_state=42).fit(X_train, y_train)"
   ]
  },
  {
   "cell_type": "code",
   "execution_count": null,
   "id": "00ce35d5",
   "metadata": {},
   "outputs": [],
   "source": [
    "RandomForestRegressor(n_estimators=5, max_depth=3, random_state=42).fit(X_train, y_train)"
   ]
  },
  {
   "cell_type": "code",
   "execution_count": null,
   "id": "01f2f5be",
   "metadata": {},
   "outputs": [],
   "source": [
    "boosting_hps = {\n",
    "  'learning_rate': 0.06795566766046571,\n",
    "  'max_depth': 74,\n",
    "  'min_child_weight': 1.1034760099449035,\n",
    "  'reg_alpha': 0.08418429054929681,\n",
    "  'reg_lambda': 0.007240669500118009,\n",
    "  'objective': 'reg:squarederror',\n",
    "  'seed': 42\n",
    "}\n",
    "\n",
    "train = xgb.DMatrix(X_train, label=y_train)\n",
    "valid = xgb.DMatrix(X_validation, label=y_validation)"
   ]
  },
  {
   "cell_type": "code",
   "execution_count": null,
   "id": "f0f187c4",
   "metadata": {},
   "outputs": [],
   "source": [
    "\n",
    "booster = xgb.train(\n",
    "  params=boosting_hps,\n",
    "  dtrain=train,\n",
    "  num_boost_round=10,\n",
    "  evals=[(valid, \"validation\")],\n",
    "  early_stopping_rounds=2\n",
    ")"
   ]
  },
  {
   "cell_type": "code",
   "execution_count": null,
   "id": "0f637533",
   "metadata": {},
   "outputs": [],
   "source": []
  }
 ],
 "metadata": {
  "kernelspec": {
   "display_name": "Python 3",
   "language": "python",
   "name": "python3"
  },
  "language_info": {
   "codemirror_mode": {
    "name": "ipython",
    "version": 3
   },
   "file_extension": ".py",
   "mimetype": "text/x-python",
   "name": "python",
   "nbconvert_exporter": "python",
   "pygments_lexer": "ipython3",
   "version": "3.9.23"
  }
 },
 "nbformat": 4,
 "nbformat_minor": 5
}
