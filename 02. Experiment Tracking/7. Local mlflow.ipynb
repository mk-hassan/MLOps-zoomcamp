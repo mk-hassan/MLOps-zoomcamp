{
 "cells": [
  {
   "cell_type": "markdown",
   "id": "8443503d",
   "metadata": {},
   "source": [
    "## Running Mlflow \n",
    "1. not tracking server\n",
    "2. local backend store (file system)\n",
    "3. local artifact store"
   ]
  },
  {
   "cell_type": "code",
   "execution_count": 1,
   "id": "d9510f9f",
   "metadata": {},
   "outputs": [],
   "source": [
    "import mlflow"
   ]
  },
  {
   "cell_type": "code",
   "execution_count": 2,
   "id": "836a4067",
   "metadata": {},
   "outputs": [
    {
     "data": {
      "text/plain": [
       "'file:///Users/Kamal/WorkSpace/MLOps-zoomcamp/02.%20Experiment%20Tracking/mlruns'"
      ]
     },
     "execution_count": 2,
     "metadata": {},
     "output_type": "execute_result"
    }
   ],
   "source": [
    "# not setting mlflow to use a database so it default to the local file system\n",
    "mlflow.get_tracking_uri()"
   ]
  },
  {
   "cell_type": "code",
   "execution_count": 3,
   "id": "f4a6b17e",
   "metadata": {},
   "outputs": [
    {
     "data": {
      "text/plain": [
       "<Experiment: artifact_location='file:///Users/Kamal/WorkSpace/MLOps-zoomcamp/02.%20Experiment%20Tracking/mlruns/982445216429221566', creation_time=1750695632398, experiment_id='982445216429221566', last_update_time=1750695632398, lifecycle_stage='active', name='local_trial', tags={}>"
      ]
     },
     "execution_count": 3,
     "metadata": {},
     "output_type": "execute_result"
    }
   ],
   "source": [
    "mlflow.set_experiment(experiment_name=\"local_trial\")"
   ]
  },
  {
   "cell_type": "code",
   "execution_count": 4,
   "id": "818c6506",
   "metadata": {},
   "outputs": [
    {
     "data": {
      "text/plain": [
       "[<Experiment: artifact_location='file:///Users/Kamal/WorkSpace/MLOps-zoomcamp/02.%20Experiment%20Tracking/mlruns/982445216429221566', creation_time=1750695632398, experiment_id='982445216429221566', last_update_time=1750695632398, lifecycle_stage='active', name='local_trial', tags={}>,\n",
       " <Experiment: artifact_location='file:///Users/Kamal/WorkSpace/MLOps-zoomcamp/02.%20Experiment%20Tracking/mlruns/0', creation_time=1750695632377, experiment_id='0', last_update_time=1750695632377, lifecycle_stage='active', name='Default', tags={}>]"
      ]
     },
     "execution_count": 4,
     "metadata": {},
     "output_type": "execute_result"
    }
   ],
   "source": [
    "mlflow.search_experiments()"
   ]
  },
  {
   "cell_type": "code",
   "execution_count": 5,
   "id": "decc593a",
   "metadata": {},
   "outputs": [],
   "source": [
    "import mlflow.sklearn\n",
    "from sklearn.linear_model import LinearRegression\n",
    "from sklearn.datasets import make_regression"
   ]
  },
  {
   "cell_type": "code",
   "execution_count": 6,
   "id": "91688d50",
   "metadata": {},
   "outputs": [
    {
     "name": "stderr",
     "output_type": "stream",
     "text": [
      "2025/06/23 19:24:54 WARNING mlflow.models.model: `artifact_path` is deprecated. Please use `name` instead.\n",
      "\u001b[31m2025/06/23 19:24:58 WARNING mlflow.models.model: Model logged without a signature and input example. Please set `input_example` parameter when logging the model to auto infer the model signature.\u001b[0m\n"
     ]
    },
    {
     "name": "stdout",
     "output_type": "stream",
     "text": [
      "Run logged successfully.\n"
     ]
    }
   ],
   "source": [
    "# Generate dummy regression data\n",
    "X, y = make_regression(n_samples=100, n_features=1, noise=0.1, random_state=42)\n",
    "\n",
    "# Create a simple model\n",
    "model = LinearRegression()\n",
    "\n",
    "# Start an MLflow run\n",
    "with mlflow.start_run():\n",
    "    # Fit the model\n",
    "    model.fit(X, y)\n",
    "\n",
    "    # Log parameters\n",
    "    mlflow.log_param(\"fit_intercept\", model.fit_intercept)\n",
    "\n",
    "    # Log metrics\n",
    "    mlflow.log_metric(\"r2_score\", model.score(X, y))\n",
    "\n",
    "    # Log model\n",
    "    mlflow.sklearn.log_model(model, artifact_path=\"model\")\n",
    "\n",
    "    print(\"Run logged successfully.\")"
   ]
  },
  {
   "cell_type": "code",
   "execution_count": null,
   "id": "c815097e",
   "metadata": {},
   "outputs": [],
   "source": []
  }
 ],
 "metadata": {
  "kernelspec": {
   "display_name": "02._Experiment_Tracking-HLmGldCW",
   "language": "python",
   "name": "python3"
  },
  "language_info": {
   "codemirror_mode": {
    "name": "ipython",
    "version": 3
   },
   "file_extension": ".py",
   "mimetype": "text/x-python",
   "name": "python",
   "nbconvert_exporter": "python",
   "pygments_lexer": "ipython3",
   "version": "3.13.0"
  }
 },
 "nbformat": 4,
 "nbformat_minor": 5
}
