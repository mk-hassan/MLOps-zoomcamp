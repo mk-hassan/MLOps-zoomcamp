{
 "cells": [
  {
   "cell_type": "code",
   "execution_count": 19,
   "id": "c6ff01c8",
   "metadata": {},
   "outputs": [],
   "source": [
    "import pandas as pd\n",
    "from sklearn.feature_extraction import DictVectorizer\n",
    "from sklearn.linear_model import LinearRegression\n",
    "from sklearn.metrics import mean_squared_error"
   ]
  },
  {
   "cell_type": "code",
   "execution_count": 20,
   "id": "5aa333f7",
   "metadata": {},
   "outputs": [],
   "source": [
    "Jan_2023 = '../data/yellow_tripdata_2023-01.parquet'\n",
    "Feb_2023 = '../data/yellow_tripdata_2023-02.parquet'"
   ]
  },
  {
   "cell_type": "code",
   "execution_count": 21,
   "id": "f01f754b",
   "metadata": {},
   "outputs": [],
   "source": [
    "categorical = ['PULocationID', 'DOLocationID']\n",
    "\n",
    "def load(file: str) -> pd.DataFrame:\n",
    "  df = pd.read_parquet(file)\n",
    "\n",
    "  df['duration'] = df['tpep_dropoff_datetime'] - df['tpep_pickup_datetime']\n",
    "  df.duration = df.duration.apply(lambda td: td.total_seconds() / 60)\n",
    "\n",
    "  df[categorical] = df[categorical].astype(str)\n",
    "\n",
    "  return df"
   ]
  },
  {
   "cell_type": "markdown",
   "id": "147ef006",
   "metadata": {},
   "source": [
    "### Q1: How many columns are there?"
   ]
  },
  {
   "cell_type": "code",
   "execution_count": 22,
   "id": "b1f76786",
   "metadata": {},
   "outputs": [],
   "source": [
    "df_train = load(Jan_2023)"
   ]
  },
  {
   "cell_type": "code",
   "execution_count": 23,
   "id": "574d30f5",
   "metadata": {},
   "outputs": [
    {
     "data": {
      "text/plain": [
       "20"
      ]
     },
     "execution_count": 23,
     "metadata": {},
     "output_type": "execute_result"
    }
   ],
   "source": [
    "len(df_train.columns)"
   ]
  },
  {
   "cell_type": "markdown",
   "id": "5073cfe1",
   "metadata": {},
   "source": [
    "### Q2: What's the standard deviation of the trips duration in January?"
   ]
  },
  {
   "cell_type": "code",
   "execution_count": 24,
   "id": "1d665d49",
   "metadata": {},
   "outputs": [
    {
     "data": {
      "text/plain": [
       "42.594351241920904"
      ]
     },
     "execution_count": 24,
     "metadata": {},
     "output_type": "execute_result"
    }
   ],
   "source": [
    "df_train.duration.describe()['std']"
   ]
  },
  {
   "cell_type": "markdown",
   "id": "a150e3c6",
   "metadata": {},
   "source": [
    "### Q3: What fraction of the records left after you dropped the outliers?"
   ]
  },
  {
   "cell_type": "code",
   "execution_count": 25,
   "id": "6990c13e",
   "metadata": {},
   "outputs": [],
   "source": [
    "cleaned_df_train = df_train[(df_train.duration >= 1) & (df_train.duration <= 60)]"
   ]
  },
  {
   "cell_type": "code",
   "execution_count": 26,
   "id": "65f0e0c9",
   "metadata": {},
   "outputs": [
    {
     "data": {
      "text/plain": [
       "98.1220282212598"
      ]
     },
     "execution_count": 26,
     "metadata": {},
     "output_type": "execute_result"
    }
   ],
   "source": [
    "(len(cleaned_df_train) / len(df_train)) * 100"
   ]
  },
  {
   "cell_type": "markdown",
   "id": "869f0fcb",
   "metadata": {},
   "source": [
    "### Q4: What's the dimensionality of this matrix (number of columns)?"
   ]
  },
  {
   "cell_type": "code",
   "execution_count": 27,
   "id": "e146354b",
   "metadata": {},
   "outputs": [],
   "source": [
    "train_dict = cleaned_df_train[categorical].to_dict(orient='records')\n",
    "\n",
    "dv = DictVectorizer()\n",
    "x_train = dv.fit_transform(train_dict)\n",
    "y_train = cleaned_df_train.duration.values"
   ]
  },
  {
   "cell_type": "code",
   "execution_count": 28,
   "id": "3935e014",
   "metadata": {},
   "outputs": [
    {
     "data": {
      "text/plain": [
       "(3009173, 515)"
      ]
     },
     "execution_count": 28,
     "metadata": {},
     "output_type": "execute_result"
    }
   ],
   "source": [
    "x_train.shape"
   ]
  },
  {
   "cell_type": "markdown",
   "id": "e5ffbfbb",
   "metadata": {},
   "source": [
    "### Q5: What's the RMSE on train?"
   ]
  },
  {
   "cell_type": "code",
   "execution_count": 29,
   "id": "06fd321e",
   "metadata": {},
   "outputs": [],
   "source": [
    "lr = LinearRegression()"
   ]
  },
  {
   "cell_type": "code",
   "execution_count": 30,
   "id": "75b31869",
   "metadata": {},
   "outputs": [
    {
     "data": {
      "text/plain": [
       "LinearRegression()"
      ]
     },
     "execution_count": 30,
     "metadata": {},
     "output_type": "execute_result"
    }
   ],
   "source": [
    "lr.fit(x_train, y_train)"
   ]
  },
  {
   "cell_type": "code",
   "execution_count": 31,
   "id": "ee15fd80",
   "metadata": {},
   "outputs": [],
   "source": [
    "y_train_pred = lr.predict(x_train)"
   ]
  },
  {
   "cell_type": "code",
   "execution_count": 32,
   "id": "4ca45777",
   "metadata": {},
   "outputs": [
    {
     "data": {
      "text/plain": [
       "7.649261027855596"
      ]
     },
     "execution_count": 32,
     "metadata": {},
     "output_type": "execute_result"
    }
   ],
   "source": [
    "mean_squared_error(y_train, y_train_pred, squared=False)"
   ]
  },
  {
   "cell_type": "code",
   "execution_count": 33,
   "id": "dfb7809d",
   "metadata": {},
   "outputs": [],
   "source": [
    "del df_train, train_dict, x_train, y_train, y_train_pred"
   ]
  },
  {
   "cell_type": "markdown",
   "id": "9ac5b648",
   "metadata": {},
   "source": [
    "### Q6: What's the RMSE on validation?"
   ]
  },
  {
   "cell_type": "code",
   "execution_count": 39,
   "id": "7ab34151",
   "metadata": {},
   "outputs": [],
   "source": [
    "df_validation = load(Feb_2023)\n",
    "cleaned_df_validation = df_validation[(df_validation.duration >= 1) & (df_validation.duration <= 60)]"
   ]
  },
  {
   "cell_type": "code",
   "execution_count": 40,
   "id": "eafa58b2",
   "metadata": {},
   "outputs": [
    {
     "name": "stderr",
     "output_type": "stream",
     "text": [
      "/tmp/ipykernel_8364/1296485225.py:1: FutureWarning: Using short name for 'orient' is deprecated. Only the options: ('dict', list, 'series', 'split', 'records', 'index') will be used in a future version. Use one of the above to silence this warning.\n",
      "  val_dict = cleaned_df_validation[categorical].to_dict(orient='record')\n"
     ]
    }
   ],
   "source": [
    "val_dict = cleaned_df_validation[categorical].to_dict(orient='record')\n",
    "y_val = cleaned_df_validation.duration.values\n",
    "\n",
    "del cleaned_df_validation\n",
    "\n",
    "x_val = dv.transform(val_dict)"
   ]
  },
  {
   "cell_type": "code",
   "execution_count": 41,
   "id": "dbc3f56d",
   "metadata": {},
   "outputs": [],
   "source": [
    "y_val_pred = lr.predict(x_val)"
   ]
  },
  {
   "cell_type": "code",
   "execution_count": 42,
   "id": "78a2a0c4",
   "metadata": {},
   "outputs": [
    {
     "data": {
      "text/plain": [
       "7.8118325109416915"
      ]
     },
     "execution_count": 42,
     "metadata": {},
     "output_type": "execute_result"
    }
   ],
   "source": [
    "mean_squared_error(y_val, y_val_pred, squared=False)"
   ]
  }
 ],
 "metadata": {
  "kernelspec": {
   "display_name": "Python 3",
   "language": "python",
   "name": "python3"
  },
  "language_info": {
   "codemirror_mode": {
    "name": "ipython",
    "version": 3
   },
   "file_extension": ".py",
   "mimetype": "text/x-python",
   "name": "python",
   "nbconvert_exporter": "python",
   "pygments_lexer": "ipython3",
   "version": "3.9.12"
  }
 },
 "nbformat": 4,
 "nbformat_minor": 5
}
